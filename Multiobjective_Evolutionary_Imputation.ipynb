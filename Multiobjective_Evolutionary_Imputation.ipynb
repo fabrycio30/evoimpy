{
  "cells": [
    {
      "cell_type": "markdown",
      "metadata": {
        "id": "7MvB95PzIBpi"
      },
      "source": [
        "#Algoritimo Genético MultiObjetivo para Imputação Múltipla de Dados Aplicado na Classificação Multirrótulo "
      ]
    },
    {
      "cell_type": "markdown",
      "metadata": {
        "id": "IG_dPTGoDaXa"
      },
      "source": [
        "#Importações\n"
      ]
    },
    {
      "cell_type": "code",
      "execution_count": null,
      "metadata": {
        "id": "xSNeKDPY3VN3",
        "outputId": "65414bfc-183a-421f-fcc8-71a457a9c7a2"
      },
      "outputs": [
        {
          "name": "stdout",
          "output_type": "stream",
          "text": [
            "Collecting pandas\n",
            "  Downloading pandas-1.4.0-cp38-cp38-manylinux_2_17_x86_64.manylinux2014_x86_64.whl (11.7 MB)\n",
            "\u001b[K     |████████████████████████████████| 11.7 MB 43 kB/s eta 0:00:01\n",
            "\u001b[?25hCollecting pytz>=2020.1\n",
            "  Downloading pytz-2021.3-py2.py3-none-any.whl (503 kB)\n",
            "\u001b[K     |████████████████████████████████| 503 kB 47 kB/s eta 0:00:01\n",
            "\u001b[?25hCollecting python-dateutil>=2.8.1\n",
            "  Using cached python_dateutil-2.8.2-py2.py3-none-any.whl (247 kB)\n",
            "Requirement already satisfied: numpy>=1.18.5; platform_machine != \"aarch64\" and platform_machine != \"arm64\" and python_version < \"3.10\" in /home/jacobjr/.local/lib/python3.8/site-packages (from pandas) (1.22.1)\n",
            "Requirement already satisfied: six>=1.5 in /usr/lib/python3/dist-packages (from python-dateutil>=2.8.1->pandas) (1.14.0)\n",
            "Installing collected packages: pytz, python-dateutil, pandas\n",
            "Successfully installed pandas-1.4.0 python-dateutil-2.8.2 pytz-2021.3\n",
            "Collecting scipy\n",
            "  Downloading scipy-1.7.3-cp38-cp38-manylinux_2_17_x86_64.manylinux2014_x86_64.whl (39.3 MB)\n",
            "\u001b[K     |████████████████████████████████| 39.3 MB 34 kB/s  eta 0:00:01\n",
            "\u001b[?25hRequirement already satisfied: numpy<1.23.0,>=1.16.5 in /home/jacobjr/.local/lib/python3.8/site-packages (from scipy) (1.22.1)\n",
            "Installing collected packages: scipy\n",
            "Successfully installed scipy-1.7.3\n",
            "Collecting future\n",
            "  Downloading future-0.18.2.tar.gz (829 kB)\n",
            "\u001b[K     |████████████████████████████████| 829 kB 575 kB/s eta 0:00:01\n",
            "\u001b[?25hBuilding wheels for collected packages: future\n",
            "  Building wheel for future (setup.py) ... \u001b[?25ldone\n",
            "\u001b[?25h  Created wheel for future: filename=future-0.18.2-py3-none-any.whl size=491058 sha256=375fea2abf32c1425369d891eb4a18aa02fc9e4b331c73baacf2deb2ca16e91a\n",
            "  Stored in directory: /home/jacobjr/.cache/pip/wheels/8e/70/28/3d6ccd6e315f65f245da085482a2e1c7d14b90b30f239e2cf4\n",
            "Successfully built future\n",
            "Installing collected packages: future\n",
            "\u001b[33m  WARNING: The scripts futurize and pasteurize are installed in '/home/jacobjr/.local/bin' which is not on PATH.\n",
            "  Consider adding this directory to PATH or, if you prefer to suppress this warning, use --no-warn-script-location.\u001b[0m\n",
            "Successfully installed future-0.18.2\n",
            "Processing /home/jacobjr/.cache/pip/wheels/22/0b/40/fd3f795caaa1fb4c6cb738bc1f56100be1e57da95849bfc897/sklearn-0.0-py2.py3-none-any.whl\n",
            "Collecting scikit-learn\n",
            "  Downloading scikit_learn-1.0.2-cp38-cp38-manylinux_2_17_x86_64.manylinux2014_x86_64.whl (26.7 MB)\n",
            "\u001b[K     |████████████████████████████████| 26.7 MB 3.3 MB/s eta 0:00:01\n",
            "\u001b[?25hCollecting threadpoolctl>=2.0.0\n",
            "  Downloading threadpoolctl-3.0.0-py3-none-any.whl (14 kB)\n",
            "Requirement already satisfied: scipy>=1.1.0 in /home/jacobjr/.local/lib/python3.8/site-packages (from scikit-learn->sklearn) (1.7.3)\n",
            "Requirement already satisfied: numpy>=1.14.6 in /home/jacobjr/.local/lib/python3.8/site-packages (from scikit-learn->sklearn) (1.22.1)\n",
            "Collecting joblib>=0.11\n",
            "  Downloading joblib-1.1.0-py2.py3-none-any.whl (306 kB)\n",
            "\u001b[K     |████████████████████████████████| 306 kB 5.1 MB/s eta 0:00:01\n",
            "\u001b[?25hInstalling collected packages: threadpoolctl, joblib, scikit-learn, sklearn\n",
            "Successfully installed joblib-1.1.0 scikit-learn-1.0.2 sklearn-0.0 threadpoolctl-3.0.0\n",
            "Collecting scikit-multilearn\n",
            "  Downloading scikit_multilearn-0.2.0-py3-none-any.whl (89 kB)\n",
            "\u001b[K     |████████████████████████████████| 89 kB 501 kB/s eta 0:00:01\n",
            "\u001b[?25hInstalling collected packages: scikit-multilearn\n",
            "Successfully installed scikit-multilearn-0.2.0\n",
            "Collecting liac-arff\n",
            "  Downloading liac-arff-2.5.0.tar.gz (13 kB)\n",
            "Building wheels for collected packages: liac-arff\n",
            "  Building wheel for liac-arff (setup.py) ... \u001b[?25ldone\n",
            "\u001b[?25h  Created wheel for liac-arff: filename=liac_arff-2.5.0-py3-none-any.whl size=11731 sha256=9dee00acdfd8fa3e28f9a25fa54605f4346dc4e3e03ec0851d523d901e980627\n",
            "  Stored in directory: /home/jacobjr/.cache/pip/wheels/a2/de/68/bf3972de3ecb31e32bef59a7f4c75f0687a3674c476b347c14\n",
            "Successfully built liac-arff\n",
            "Installing collected packages: liac-arff\n",
            "Successfully installed liac-arff-2.5.0\n",
            "Collecting iterative-stratification\n",
            "  Downloading iterative_stratification-0.1.7-py3-none-any.whl (8.5 kB)\n",
            "Requirement already satisfied: scipy in /home/jacobjr/.local/lib/python3.8/site-packages (from iterative-stratification) (1.7.3)\n",
            "Requirement already satisfied: numpy in /home/jacobjr/.local/lib/python3.8/site-packages (from iterative-stratification) (1.22.1)\n",
            "Requirement already satisfied: scikit-learn in /home/jacobjr/.local/lib/python3.8/site-packages (from iterative-stratification) (1.0.2)\n",
            "Requirement already satisfied: threadpoolctl>=2.0.0 in /home/jacobjr/.local/lib/python3.8/site-packages (from scikit-learn->iterative-stratification) (3.0.0)\n",
            "Requirement already satisfied: joblib>=0.11 in /home/jacobjr/.local/lib/python3.8/site-packages (from scikit-learn->iterative-stratification) (1.1.0)\n",
            "Installing collected packages: iterative-stratification\n",
            "Successfully installed iterative-stratification-0.1.7\n",
            "Collecting missingpy\n",
            "  Downloading missingpy-0.2.0-py3-none-any.whl (49 kB)\n",
            "\u001b[K     |████████████████████████████████| 49 kB 374 kB/s eta 0:00:01\n",
            "\u001b[?25hInstalling collected packages: missingpy\n",
            "Successfully installed missingpy-0.2.0\n"
          ]
        }
      ],
      "source": [
        "#instalações\n",
        "#!pip install numpy\n",
        "!pip install pandas\n",
        "!pip install scipy\n",
        "!pip install future\n",
        "!pip install sklearn\n",
        "!pip install scikit-multilearn\n",
        "!pip install liac-arff # for loading ARFF files\n",
        "!pip install iterative-stratification \n",
        "!pip install missingpy"
      ]
    },
    {
      "cell_type": "code",
      "execution_count": null,
      "metadata": {
        "id": "PQwleV8MrFX_"
      },
      "outputs": [],
      "source": [
        "import numpy as np\n",
        "import scipy as sp\n",
        "import future as ft\n",
        "import sklearn\n",
        "from scipy.io import arff\n",
        "import pandas as pd\n",
        "#importações poś-intalações\n",
        "from skmultilearn.dataset import load_dataset\n",
        "import arff\n"
      ]
    },
    {
      "cell_type": "markdown",
      "metadata": {
        "id": "AtaHZNhdUyuU"
      },
      "source": [
        "### Lendo datasets originais do Repositório Mulan"
      ]
    },
    {
      "cell_type": "code",
      "execution_count": null,
      "metadata": {
        "id": "XKbZefjIDRi_"
      },
      "outputs": [],
      "source": [
        "def load_dataset_(dataset_name):\n",
        "    from skmultilearn.dataset import load_dataset\n",
        "    X,y,feature_names,label_names = load_dataset(dataset_name, 'undivided')\n",
        "    return X.toarray(),y.toarray(),feature_names, label_names"
      ]
    },
    {
      "cell_type": "code",
      "execution_count": null,
      "metadata": {
        "colab": {
          "base_uri": "https://localhost:8080/"
        },
        "id": "ypcrK6NDTzfN",
        "outputId": "de69899f-8729-44b5-854e-3632ca494d8b"
      },
      "outputs": [
        {
          "name": "stdout",
          "output_type": "stream",
          "text": [
            "emotions:undivided - does not exists downloading\n",
            "Downloaded emotions-undivided\n"
          ]
        }
      ],
      "source": [
        "data = load_dataset_('emotions')"
      ]
    },
    {
      "cell_type": "markdown",
      "metadata": {
        "id": "_EGMVZzemtnX"
      },
      "source": [
        "### Utilizando os dados originais (uploaded)"
      ]
    },
    {
      "cell_type": "code",
      "execution_count": null,
      "metadata": {
        "id": "T-UQnzy8m35h"
      },
      "outputs": [],
      "source": [
        "def dataset_emotions():\n",
        "  from scipy.io.arff import loadarff\n",
        "  raw_data = loadarff('/content/drive/MyDrive/Colab Notebooks/datasets/emotions.arff')\n",
        "  df = pd.DataFrame(raw_data[0])\n",
        "  df[\"amazed-suprised\"] = pd.to_numeric(df[\"amazed-suprised\"])\n",
        "  df[\"happy-pleased\"] = pd.to_numeric(df[\"happy-pleased\"])\n",
        "  df[\"relaxing-calm\"] = pd.to_numeric(df[\"relaxing-calm\"])\n",
        "  df[\"quiet-still\"] = pd.to_numeric(df[\"quiet-still\"])\n",
        "  df[\"sad-lonely\"] = pd.to_numeric(df[\"sad-lonely\"])\n",
        "  df[\"angry-aggresive\"] = pd.to_numeric(df[\"angry-aggresive\"])\n",
        "  labels = ['amazed-suprised','happy-pleased','relaxing-calm','quiet-still','sad-lonely','angry-aggresive']\n",
        "  #dividindo dataset (features e labels)\n",
        "  feats_df = df.drop(columns = labels).values\n",
        "  labels_df = df[labels].values\n",
        "  return df,feats_df,labels_df"
      ]
    },
    {
      "cell_type": "code",
      "execution_count": null,
      "metadata": {
        "id": "_Xh-CrlZMll8"
      },
      "outputs": [],
      "source": [
        "def counter(y):\n",
        "  from skmultilearn.model_selection.measures import get_combination_wise_output_matrix\n",
        "  from collections import Counter\n",
        "  distribuicao_labels = Counter(combination for row in get_combination_wise_output_matrix(y, order=1) for combination in row)\n",
        "  return distribuicao_labels\n"
      ]
    },
    {
      "cell_type": "code",
      "execution_count": null,
      "metadata": {
        "colab": {
          "base_uri": "https://localhost:8080/"
        },
        "id": "zYONEm5gNNXK",
        "outputId": "fee9d81a-99bb-43e8-b77e-11a44a37221e"
      },
      "outputs": [
        {
          "data": {
            "text/plain": [
              "Counter({(1,): 166, (2,): 264, (0,): 173, (5,): 189, (3,): 148, (4,): 168})"
            ]
          },
          "execution_count": 23,
          "metadata": {},
          "output_type": "execute_result"
        }
      ],
      "source": [
        "counter(data[1])"
      ]
    },
    {
      "cell_type": "markdown",
      "metadata": {
        "id": "ZgAyH1cdb2-w"
      },
      "source": [
        "\n",
        "\n",
        "\n",
        "## Aplicando Validação Cruzada k-fold \n",
        "Testes iniciais com 10-folds"
      ]
    },
    {
      "cell_type": "code",
      "execution_count": null,
      "metadata": {
        "id": "szroqYPqOZtj"
      },
      "outputs": [],
      "source": [
        "#X,y in numpy format\n",
        "def cross_validation(X,y,num_folds, randon_state=0):\n",
        "  from iterstrat.ml_stratifiers import MultilabelStratifiedKFold\n",
        "  mskf = MultilabelStratifiedKFold(n_splits=num_folds, shuffle=True, random_state=0)\n",
        "  for train_index, test_index in mskf.split(X, y):\n",
        "   #print(\"TRAIN:\", train_index, \"TEST:\", test_index)\n",
        "   X_train, X_test = X[train_index], X[test_index]\n",
        "   y_train, y_test = y[train_index], y[test_index]\n",
        "  return X_train, X_test, y_train, y_test"
      ]
    },
    {
      "cell_type": "code",
      "execution_count": null,
      "metadata": {
        "id": "BnezxZn2PyGP"
      },
      "outputs": [],
      "source": [
        "data_train_and_test = cross_validation(data[0], data[1],10)"
      ]
    },
    {
      "cell_type": "code",
      "execution_count": null,
      "metadata": {
        "id": "cMcP_pKubIXk"
      },
      "outputs": [],
      "source": [
        "X_train = data_train_and_test[0]\n",
        "X_test = data_train_and_test[1]\n",
        "y_train = data_train_and_test[2]\n",
        "y_test = data_train_and_test[3]"
      ]
    },
    {
      "cell_type": "markdown",
      "metadata": {
        "id": "8vvGRMiHF_SU"
      },
      "source": [
        "#Exibindo informações do dataset trabalhado"
      ]
    },
    {
      "cell_type": "code",
      "execution_count": null,
      "metadata": {
        "id": "ZB8ugceORFFn"
      },
      "outputs": [],
      "source": [
        "#verificando a presença de valores ausentes\n",
        "def missing_values(df):\n",
        "  amount = (df.isna().sum()).sum()\n",
        "  return amount"
      ]
    },
    {
      "cell_type": "code",
      "execution_count": null,
      "metadata": {
        "colab": {
          "base_uri": "https://localhost:8080/"
        },
        "id": "VVZdHXfNFoOb",
        "outputId": "3f1eafef-decf-484d-80bd-ae9038827d80"
      },
      "outputs": [
        {
          "data": {
            "text/plain": [
              "0"
            ]
          },
          "execution_count": 30,
          "metadata": {},
          "output_type": "execute_result"
        }
      ],
      "source": [
        "valores_ausentes = missing_values(pd.DataFrame(X_train))\n",
        "valores_ausentes"
      ]
    },
    {
      "cell_type": "code",
      "execution_count": null,
      "metadata": {
        "id": "Je2sc5HTR13d"
      },
      "outputs": [],
      "source": [
        "#padronização Dataset de teste\n",
        "#X in numpy format\n",
        "def padronizacao(X):\n",
        "  from sklearn.preprocessing import StandardScaler\n",
        "  scl = StandardScaler()\n",
        "  X_scaler = scl.fit_transform(X)\n",
        "  return X_scaler\n",
        "\n"
      ]
    },
    {
      "cell_type": "code",
      "execution_count": null,
      "metadata": {
        "id": "i6bw28J63VOF",
        "outputId": "a159c287-5966-4a21-f1e9-25af4157ffc1"
      },
      "outputs": [
        {
          "data": {
            "text/plain": [
              "array([[0.034741, 0.089665, 0.091225, ..., 0.245457, 0.105065, 0.405399],\n",
              "       [0.081374, 0.272747, 0.085733, ..., 0.343547, 0.276366, 0.710924],\n",
              "       [0.110545, 0.273567, 0.08441 , ..., 0.188693, 0.045941, 0.457372],\n",
              "       ...,\n",
              "       [0.035169, 0.065403, 0.075227, ..., 0.184313, 0.247136, 0.476993],\n",
              "       [0.054276, 0.238158, 0.095935, ..., 0.547126, 0.183494, 1.25582 ],\n",
              "       [0.073194, 0.140733, 0.080545, ..., 0.087328, 0.236815, 0.451701]])"
            ]
          },
          "execution_count": 32,
          "metadata": {},
          "output_type": "execute_result"
        }
      ],
      "source": [
        "X_train"
      ]
    },
    {
      "cell_type": "code",
      "execution_count": null,
      "metadata": {
        "colab": {
          "base_uri": "https://localhost:8080/"
        },
        "id": "Kj0tolOdSpUA",
        "outputId": "4c0291f8-503e-46c9-f300-a102a0c66b7c"
      },
      "outputs": [
        {
          "data": {
            "text/plain": [
              "array([[-1.10787768, -0.89931277,  0.59716409, ..., -0.48531477,\n",
              "        -0.69145912, -0.83319228],\n",
              "       [ 0.38570926,  0.64625217,  0.00479793, ..., -0.20020473,\n",
              "        -0.22647793, -0.37268296],\n",
              "       [ 1.32001383,  0.65317455, -0.13790062, ..., -0.65030597,\n",
              "        -0.85194592, -0.75485482],\n",
              "       ...,\n",
              "       [-1.09416947, -1.10413081, -1.1283774 , ..., -0.66303695,\n",
              "        -0.30582014, -0.72528064],\n",
              "       [-0.48220014,  0.35425435,  1.10518387, ...,  0.39152141,\n",
              "        -0.47857064,  0.44862358],\n",
              "       [ 0.1237158 , -0.46820043, -0.55477884, ..., -0.94493518,\n",
              "        -0.33383557, -0.76340256]])"
            ]
          },
          "execution_count": 35,
          "metadata": {},
          "output_type": "execute_result"
        }
      ],
      "source": [
        "X_test_s = padronizacao(X_train)\n",
        "X_test_s"
      ]
    },
    {
      "cell_type": "markdown",
      "metadata": {
        "id": "YmPwwJ5KEOmT"
      },
      "source": [
        "#Amputando dataset\n",
        "\n",
        "*   Mecanismo VA: MCAR\n",
        "\n"
      ]
    },
    {
      "cell_type": "markdown",
      "metadata": {
        "id": "N3D5JYQla4xA"
      },
      "source": [
        "Quantificando os percentuais de valores ausentes de acordo com cada database"
      ]
    },
    {
      "cell_type": "code",
      "execution_count": null,
      "metadata": {
        "id": "vBh0rsycTlfV"
      },
      "outputs": [],
      "source": [
        "#retorna um lista com as posições com Valores ausentes e o dataset amputado\n",
        "def amputation(rate, X):\n",
        "  from numpy import random\n",
        "\n",
        "  amount_missing_values = int(X.size * rate)\n",
        "  print('Total dados: '+str(X.size)+'\\n Total VAs: '+str(amount_missing_values)+'\\n')\n",
        "\n",
        "  rows = X.shape[0]\n",
        "  cols = X.shape[1]\n",
        "  index_list = []\n",
        "  df = pd.DataFrame(X)\n",
        "\n",
        "  while(len(index_list)<amount_missing_values):\n",
        "    a = 0\n",
        "    b = 0\n",
        "    row = random.randint(0,rows)\n",
        "    col = random.randint(0,cols)\n",
        "    if(a != row and b != col):\n",
        "      a = row\n",
        "      b = col\n",
        "      df.iloc[row,col] = np.nan\n",
        "      index_list.append([row,col])\n",
        "  return df, index_list"
      ]
    },
    {
      "cell_type": "code",
      "execution_count": null,
      "metadata": {
        "colab": {
          "base_uri": "https://localhost:8080/"
        },
        "id": "EGMtsgfm4SiY",
        "outputId": "556778f9-464d-4758-b98e-2d6ce028a1f0"
      },
      "outputs": [
        {
          "name": "stdout",
          "output_type": "stream",
          "text": [
            "Total dados: 38160\n",
            " Total VAs: 9540\n",
            "\n"
          ]
        }
      ],
      "source": [
        "a = amputation(0.25, X_train)"
      ]
    },
    {
      "cell_type": "code",
      "execution_count": null,
      "metadata": {
        "colab": {
          "base_uri": "https://localhost:8080/",
          "height": 488
        },
        "id": "ZGhHxBeDaAsj",
        "outputId": "e4781e90-1dd9-47e6-a408-c1071d4e3260"
      },
      "outputs": [
        {
          "data": {
            "text/html": [
              "<div>\n",
              "<style scoped>\n",
              "    .dataframe tbody tr th:only-of-type {\n",
              "        vertical-align: middle;\n",
              "    }\n",
              "\n",
              "    .dataframe tbody tr th {\n",
              "        vertical-align: top;\n",
              "    }\n",
              "\n",
              "    .dataframe thead th {\n",
              "        text-align: right;\n",
              "    }\n",
              "</style>\n",
              "<table border=\"1\" class=\"dataframe\">\n",
              "  <thead>\n",
              "    <tr style=\"text-align: right;\">\n",
              "      <th></th>\n",
              "      <th>0</th>\n",
              "      <th>1</th>\n",
              "      <th>2</th>\n",
              "      <th>3</th>\n",
              "      <th>4</th>\n",
              "      <th>5</th>\n",
              "      <th>6</th>\n",
              "      <th>7</th>\n",
              "      <th>8</th>\n",
              "      <th>9</th>\n",
              "      <th>...</th>\n",
              "      <th>62</th>\n",
              "      <th>63</th>\n",
              "      <th>64</th>\n",
              "      <th>65</th>\n",
              "      <th>66</th>\n",
              "      <th>67</th>\n",
              "      <th>68</th>\n",
              "      <th>69</th>\n",
              "      <th>70</th>\n",
              "      <th>71</th>\n",
              "    </tr>\n",
              "  </thead>\n",
              "  <tbody>\n",
              "    <tr>\n",
              "      <th>0</th>\n",
              "      <td>0.034741</td>\n",
              "      <td>0.089665</td>\n",
              "      <td>0.091225</td>\n",
              "      <td>-73.302422</td>\n",
              "      <td>6.215179</td>\n",
              "      <td>0.615074</td>\n",
              "      <td>2.037160</td>\n",
              "      <td>0.804065</td>\n",
              "      <td>1.301409</td>\n",
              "      <td>0.558576</td>\n",
              "      <td>...</td>\n",
              "      <td>0.118630</td>\n",
              "      <td>0.094923</td>\n",
              "      <td>0.051035</td>\n",
              "      <td>68.0</td>\n",
              "      <td>0.014937</td>\n",
              "      <td>136.0</td>\n",
              "      <td>2.0</td>\n",
              "      <td>0.245457</td>\n",
              "      <td>0.105065</td>\n",
              "      <td>0.405399</td>\n",
              "    </tr>\n",
              "    <tr>\n",
              "      <th>1</th>\n",
              "      <td>0.081374</td>\n",
              "      <td>0.272747</td>\n",
              "      <td>0.085733</td>\n",
              "      <td>-62.584437</td>\n",
              "      <td>3.183163</td>\n",
              "      <td>NaN</td>\n",
              "      <td>0.163038</td>\n",
              "      <td>NaN</td>\n",
              "      <td>0.458514</td>\n",
              "      <td>0.041426</td>\n",
              "      <td>...</td>\n",
              "      <td>NaN</td>\n",
              "      <td>NaN</td>\n",
              "      <td>0.295031</td>\n",
              "      <td>70.0</td>\n",
              "      <td>0.276366</td>\n",
              "      <td>140.0</td>\n",
              "      <td>2.0</td>\n",
              "      <td>0.343547</td>\n",
              "      <td>0.276366</td>\n",
              "      <td>NaN</td>\n",
              "    </tr>\n",
              "    <tr>\n",
              "      <th>2</th>\n",
              "      <td>0.110545</td>\n",
              "      <td>0.273567</td>\n",
              "      <td>0.084410</td>\n",
              "      <td>-65.235325</td>\n",
              "      <td>NaN</td>\n",
              "      <td>NaN</td>\n",
              "      <td>NaN</td>\n",
              "      <td>NaN</td>\n",
              "      <td>0.489412</td>\n",
              "      <td>0.627636</td>\n",
              "      <td>...</td>\n",
              "      <td>0.079917</td>\n",
              "      <td>0.085821</td>\n",
              "      <td>0.161574</td>\n",
              "      <td>61.0</td>\n",
              "      <td>0.000000</td>\n",
              "      <td>NaN</td>\n",
              "      <td>3.0</td>\n",
              "      <td>0.188693</td>\n",
              "      <td>0.045941</td>\n",
              "      <td>0.457372</td>\n",
              "    </tr>\n",
              "    <tr>\n",
              "      <th>3</th>\n",
              "      <td>0.042481</td>\n",
              "      <td>0.199281</td>\n",
              "      <td>0.093447</td>\n",
              "      <td>-80.305152</td>\n",
              "      <td>5.824409</td>\n",
              "      <td>NaN</td>\n",
              "      <td>1.754870</td>\n",
              "      <td>1.495532</td>\n",
              "      <td>0.739909</td>\n",
              "      <td>NaN</td>\n",
              "      <td>...</td>\n",
              "      <td>0.129145</td>\n",
              "      <td>0.122330</td>\n",
              "      <td>0.043012</td>\n",
              "      <td>66.0</td>\n",
              "      <td>0.206562</td>\n",
              "      <td>132.0</td>\n",
              "      <td>2.0</td>\n",
              "      <td>NaN</td>\n",
              "      <td>0.241934</td>\n",
              "      <td>0.351009</td>\n",
              "    </tr>\n",
              "    <tr>\n",
              "      <th>4</th>\n",
              "      <td>0.074550</td>\n",
              "      <td>NaN</td>\n",
              "      <td>0.079789</td>\n",
              "      <td>-93.697749</td>\n",
              "      <td>5.543229</td>\n",
              "      <td>1.064262</td>\n",
              "      <td>NaN</td>\n",
              "      <td>0.890336</td>\n",
              "      <td>0.702328</td>\n",
              "      <td>0.490685</td>\n",
              "      <td>...</td>\n",
              "      <td>0.284196</td>\n",
              "      <td>0.189988</td>\n",
              "      <td>0.029308</td>\n",
              "      <td>NaN</td>\n",
              "      <td>0.144039</td>\n",
              "      <td>200.0</td>\n",
              "      <td>2.0</td>\n",
              "      <td>NaN</td>\n",
              "      <td>0.310801</td>\n",
              "      <td>NaN</td>\n",
              "    </tr>\n",
              "    <tr>\n",
              "      <th>...</th>\n",
              "      <td>...</td>\n",
              "      <td>...</td>\n",
              "      <td>...</td>\n",
              "      <td>...</td>\n",
              "      <td>...</td>\n",
              "      <td>...</td>\n",
              "      <td>...</td>\n",
              "      <td>...</td>\n",
              "      <td>...</td>\n",
              "      <td>...</td>\n",
              "      <td>...</td>\n",
              "      <td>...</td>\n",
              "      <td>...</td>\n",
              "      <td>...</td>\n",
              "      <td>...</td>\n",
              "      <td>...</td>\n",
              "      <td>...</td>\n",
              "      <td>...</td>\n",
              "      <td>...</td>\n",
              "      <td>...</td>\n",
              "      <td>...</td>\n",
              "    </tr>\n",
              "    <tr>\n",
              "      <th>525</th>\n",
              "      <td>0.027142</td>\n",
              "      <td>NaN</td>\n",
              "      <td>0.072043</td>\n",
              "      <td>-79.881347</td>\n",
              "      <td>NaN</td>\n",
              "      <td>1.927310</td>\n",
              "      <td>NaN</td>\n",
              "      <td>0.397888</td>\n",
              "      <td>NaN</td>\n",
              "      <td>0.302742</td>\n",
              "      <td>...</td>\n",
              "      <td>0.129552</td>\n",
              "      <td>NaN</td>\n",
              "      <td>0.089991</td>\n",
              "      <td>87.0</td>\n",
              "      <td>0.564842</td>\n",
              "      <td>NaN</td>\n",
              "      <td>NaN</td>\n",
              "      <td>0.261742</td>\n",
              "      <td>NaN</td>\n",
              "      <td>1.149211</td>\n",
              "    </tr>\n",
              "    <tr>\n",
              "      <th>526</th>\n",
              "      <td>0.094829</td>\n",
              "      <td>NaN</td>\n",
              "      <td>0.082824</td>\n",
              "      <td>-61.364436</td>\n",
              "      <td>2.966229</td>\n",
              "      <td>0.627740</td>\n",
              "      <td>1.440352</td>\n",
              "      <td>NaN</td>\n",
              "      <td>1.110282</td>\n",
              "      <td>0.394450</td>\n",
              "      <td>...</td>\n",
              "      <td>0.128090</td>\n",
              "      <td>0.167160</td>\n",
              "      <td>0.035827</td>\n",
              "      <td>NaN</td>\n",
              "      <td>NaN</td>\n",
              "      <td>130.0</td>\n",
              "      <td>NaN</td>\n",
              "      <td>0.282122</td>\n",
              "      <td>NaN</td>\n",
              "      <td>NaN</td>\n",
              "    </tr>\n",
              "    <tr>\n",
              "      <th>527</th>\n",
              "      <td>0.035169</td>\n",
              "      <td>0.065403</td>\n",
              "      <td>NaN</td>\n",
              "      <td>NaN</td>\n",
              "      <td>NaN</td>\n",
              "      <td>0.092224</td>\n",
              "      <td>0.818851</td>\n",
              "      <td>1.569606</td>\n",
              "      <td>1.831909</td>\n",
              "      <td>0.057216</td>\n",
              "      <td>...</td>\n",
              "      <td>NaN</td>\n",
              "      <td>0.098238</td>\n",
              "      <td>0.033681</td>\n",
              "      <td>88.0</td>\n",
              "      <td>0.000000</td>\n",
              "      <td>NaN</td>\n",
              "      <td>NaN</td>\n",
              "      <td>NaN</td>\n",
              "      <td>NaN</td>\n",
              "      <td>0.476993</td>\n",
              "    </tr>\n",
              "    <tr>\n",
              "      <th>528</th>\n",
              "      <td>0.054276</td>\n",
              "      <td>0.238158</td>\n",
              "      <td>NaN</td>\n",
              "      <td>-71.009724</td>\n",
              "      <td>3.181340</td>\n",
              "      <td>1.547197</td>\n",
              "      <td>NaN</td>\n",
              "      <td>0.618838</td>\n",
              "      <td>0.997950</td>\n",
              "      <td>0.825143</td>\n",
              "      <td>...</td>\n",
              "      <td>0.080006</td>\n",
              "      <td>0.058181</td>\n",
              "      <td>0.155650</td>\n",
              "      <td>84.0</td>\n",
              "      <td>0.276695</td>\n",
              "      <td>168.0</td>\n",
              "      <td>2.0</td>\n",
              "      <td>0.547126</td>\n",
              "      <td>NaN</td>\n",
              "      <td>NaN</td>\n",
              "    </tr>\n",
              "    <tr>\n",
              "      <th>529</th>\n",
              "      <td>0.073194</td>\n",
              "      <td>0.140733</td>\n",
              "      <td>0.080545</td>\n",
              "      <td>-74.517081</td>\n",
              "      <td>NaN</td>\n",
              "      <td>-1.047953</td>\n",
              "      <td>1.952278</td>\n",
              "      <td>0.341936</td>\n",
              "      <td>0.770582</td>\n",
              "      <td>0.144989</td>\n",
              "      <td>...</td>\n",
              "      <td>0.073605</td>\n",
              "      <td>0.081219</td>\n",
              "      <td>0.056101</td>\n",
              "      <td>94.0</td>\n",
              "      <td>0.007080</td>\n",
              "      <td>NaN</td>\n",
              "      <td>2.0</td>\n",
              "      <td>NaN</td>\n",
              "      <td>NaN</td>\n",
              "      <td>0.451701</td>\n",
              "    </tr>\n",
              "  </tbody>\n",
              "</table>\n",
              "<p>530 rows × 72 columns</p>\n",
              "</div>"
            ],
            "text/plain": [
              "           0         1         2          3         4         5         6   \\\n",
              "0    0.034741  0.089665  0.091225 -73.302422  6.215179  0.615074  2.037160   \n",
              "1    0.081374  0.272747  0.085733 -62.584437  3.183163       NaN  0.163038   \n",
              "2    0.110545  0.273567  0.084410 -65.235325       NaN       NaN       NaN   \n",
              "3    0.042481  0.199281  0.093447 -80.305152  5.824409       NaN  1.754870   \n",
              "4    0.074550       NaN  0.079789 -93.697749  5.543229  1.064262       NaN   \n",
              "..        ...       ...       ...        ...       ...       ...       ...   \n",
              "525  0.027142       NaN  0.072043 -79.881347       NaN  1.927310       NaN   \n",
              "526  0.094829       NaN  0.082824 -61.364436  2.966229  0.627740  1.440352   \n",
              "527  0.035169  0.065403       NaN        NaN       NaN  0.092224  0.818851   \n",
              "528  0.054276  0.238158       NaN -71.009724  3.181340  1.547197       NaN   \n",
              "529  0.073194  0.140733  0.080545 -74.517081       NaN -1.047953  1.952278   \n",
              "\n",
              "           7         8         9   ...        62        63        64    65  \\\n",
              "0    0.804065  1.301409  0.558576  ...  0.118630  0.094923  0.051035  68.0   \n",
              "1         NaN  0.458514  0.041426  ...       NaN       NaN  0.295031  70.0   \n",
              "2         NaN  0.489412  0.627636  ...  0.079917  0.085821  0.161574  61.0   \n",
              "3    1.495532  0.739909       NaN  ...  0.129145  0.122330  0.043012  66.0   \n",
              "4    0.890336  0.702328  0.490685  ...  0.284196  0.189988  0.029308   NaN   \n",
              "..        ...       ...       ...  ...       ...       ...       ...   ...   \n",
              "525  0.397888       NaN  0.302742  ...  0.129552       NaN  0.089991  87.0   \n",
              "526       NaN  1.110282  0.394450  ...  0.128090  0.167160  0.035827   NaN   \n",
              "527  1.569606  1.831909  0.057216  ...       NaN  0.098238  0.033681  88.0   \n",
              "528  0.618838  0.997950  0.825143  ...  0.080006  0.058181  0.155650  84.0   \n",
              "529  0.341936  0.770582  0.144989  ...  0.073605  0.081219  0.056101  94.0   \n",
              "\n",
              "           66     67   68        69        70        71  \n",
              "0    0.014937  136.0  2.0  0.245457  0.105065  0.405399  \n",
              "1    0.276366  140.0  2.0  0.343547  0.276366       NaN  \n",
              "2    0.000000    NaN  3.0  0.188693  0.045941  0.457372  \n",
              "3    0.206562  132.0  2.0       NaN  0.241934  0.351009  \n",
              "4    0.144039  200.0  2.0       NaN  0.310801       NaN  \n",
              "..        ...    ...  ...       ...       ...       ...  \n",
              "525  0.564842    NaN  NaN  0.261742       NaN  1.149211  \n",
              "526       NaN  130.0  NaN  0.282122       NaN       NaN  \n",
              "527  0.000000    NaN  NaN       NaN       NaN  0.476993  \n",
              "528  0.276695  168.0  2.0  0.547126       NaN       NaN  \n",
              "529  0.007080    NaN  2.0       NaN       NaN  0.451701  \n",
              "\n",
              "[530 rows x 72 columns]"
            ]
          },
          "execution_count": 38,
          "metadata": {},
          "output_type": "execute_result"
        }
      ],
      "source": [
        "a[0]"
      ]
    },
    {
      "cell_type": "code",
      "execution_count": null,
      "metadata": {
        "colab": {
          "base_uri": "https://localhost:8080/"
        },
        "id": "V1a-5SqH8o-f",
        "outputId": "9237723d-30bf-40a2-a5c5-a367f87db2c0"
      },
      "outputs": [
        {
          "data": {
            "text/plain": [
              "8401"
            ]
          },
          "execution_count": 39,
          "metadata": {},
          "output_type": "execute_result"
        }
      ],
      "source": [
        "total_nan = (a[0].isnull().sum()).sum()\n",
        "total_nan"
      ]
    },
    {
      "cell_type": "code",
      "execution_count": null,
      "metadata": {
        "id": "y1cRz-CObLlw"
      },
      "outputs": [],
      "source": [
        "def grafic_bar_missing_values(df):\n",
        "  import missingno as msno\n",
        "  msno.bar(df)"
      ]
    },
    {
      "cell_type": "code",
      "execution_count": null,
      "metadata": {
        "id": "XOGC9byecxSW"
      },
      "outputs": [],
      "source": [
        "def grafic_matrix_missing_values(df):\n",
        "  import missingno as msno\n",
        "  msno.matrix(df)"
      ]
    },
    {
      "cell_type": "code",
      "execution_count": null,
      "metadata": {
        "id": "YkAuo26d3VOS",
        "outputId": "d99b4ea9-e7f0-4398-c0b3-267427524045"
      },
      "outputs": [
        {
          "name": "stdout",
          "output_type": "stream",
          "text": [
            "Collecting missingno\n",
            "  Downloading missingno-0.5.0-py3-none-any.whl (8.8 kB)\n",
            "Requirement already satisfied: scipy in /home/jacobjr/.local/lib/python3.8/site-packages (from missingno) (1.7.3)\n",
            "Collecting matplotlib\n",
            "  Downloading matplotlib-3.5.1-cp38-cp38-manylinux_2_5_x86_64.manylinux1_x86_64.whl (11.3 MB)\n",
            "\u001b[K     |████████████████████████████████| 11.3 MB 57 kB/s eta 0:00:01\n",
            "\u001b[?25hRequirement already satisfied: numpy in /home/jacobjr/.local/lib/python3.8/site-packages (from missingno) (1.22.1)\n",
            "Collecting seaborn\n",
            "  Downloading seaborn-0.11.2-py3-none-any.whl (292 kB)\n",
            "\u001b[K     |████████████████████████████████| 292 kB 41 kB/s eta 0:00:01\n",
            "\u001b[?25hCollecting cycler>=0.10\n",
            "  Downloading cycler-0.11.0-py3-none-any.whl (6.4 kB)\n",
            "Requirement already satisfied: pillow>=6.2.0 in /usr/lib/python3/dist-packages (from matplotlib->missingno) (7.0.0)\n",
            "Collecting fonttools>=4.22.0\n",
            "  Downloading fonttools-4.29.0-py3-none-any.whl (895 kB)\n",
            "\u001b[K     |████████████████████████████████| 895 kB 58 kB/s eta 0:00:01\n",
            "\u001b[?25hRequirement already satisfied: python-dateutil>=2.7 in /home/jacobjr/.local/lib/python3.8/site-packages (from matplotlib->missingno) (2.8.2)\n",
            "Requirement already satisfied: pyparsing>=2.2.1 in /home/jacobjr/.local/lib/python3.8/site-packages (from matplotlib->missingno) (3.0.7)\n",
            "Collecting kiwisolver>=1.0.1\n",
            "  Using cached kiwisolver-1.3.2-cp38-cp38-manylinux_2_5_x86_64.manylinux1_x86_64.whl (1.2 MB)\n",
            "Requirement already satisfied: packaging>=20.0 in /home/jacobjr/.local/lib/python3.8/site-packages (from matplotlib->missingno) (21.3)\n",
            "Requirement already satisfied: pandas>=0.23 in /home/jacobjr/.local/lib/python3.8/site-packages (from seaborn->missingno) (1.4.0)\n",
            "Requirement already satisfied: six>=1.5 in /usr/lib/python3/dist-packages (from python-dateutil>=2.7->matplotlib->missingno) (1.14.0)\n",
            "Requirement already satisfied: pytz>=2020.1 in /home/jacobjr/.local/lib/python3.8/site-packages (from pandas>=0.23->seaborn->missingno) (2021.3)\n",
            "Installing collected packages: cycler, fonttools, kiwisolver, matplotlib, seaborn, missingno\n",
            "\u001b[33m  WARNING: The scripts fonttools, pyftmerge, pyftsubset and ttx are installed in '/home/jacobjr/.local/bin' which is not on PATH.\n",
            "  Consider adding this directory to PATH or, if you prefer to suppress this warning, use --no-warn-script-location.\u001b[0m\n",
            "Successfully installed cycler-0.11.0 fonttools-4.29.0 kiwisolver-1.3.2 matplotlib-3.5.1 missingno-0.5.0 seaborn-0.11.2\n"
          ]
        }
      ],
      "source": [
        "#!pip install missingno"
      ]
    },
    {
      "cell_type": "code",
      "execution_count": null,
      "metadata": {
        "colab": {
          "base_uri": "https://localhost:8080/",
          "height": 361
        },
        "id": "bmjD8H8Oc4ZN",
        "outputId": "6e08b0f2-6c21-4297-a05a-3932787cebf6"
      },
      "outputs": [
        {
          "data": {
            "image/png": "[encoded data removed]",
            "text/plain": [
              "<Figure size 1800x720 with 2 Axes>"
            ]
          },
          "metadata": {
            "needs_background": "light"
          },
          "output_type": "display_data"
        }
      ],
      "source": [
        "grafic_matrix_missing_values(pd.DataFrame(a[0]))"
      ]
    },
    {
      "cell_type": "code",
      "execution_count": null,
      "metadata": {
        "colab": {
          "base_uri": "https://localhost:8080/",
          "height": 812
        },
        "id": "e1RebPEvbqvd",
        "outputId": "72d01875-50e0-46fd-9e10-1e5d63888a6a"
      },
      "outputs": [
        {
          "data": {
            "image/png": "[encoded data removed]",
            "text/plain": [
              "<Figure size 1800x1692 with 3 Axes>"
            ]
          },
          "metadata": {
            "needs_background": "light"
          },
          "output_type": "display_data"
        }
      ],
      "source": [
        "grafic_bar_missing_values(pd.DataFrame(a[0]))"
      ]
    },
    {
      "cell_type": "code",
      "execution_count": null,
      "metadata": {
        "id": "GQYYKC9idcl2"
      },
      "outputs": [],
      "source": [
        "def grafic_line_missing_values(df):\n",
        "  import matplotlib.pyplot as plt \n",
        "  plt.figure(figsize=(20,3))\n",
        "  plt.plot(df.isnull().sum(),marker='o')\n",
        "  plt.title(\"Distribuição de Missing Values por features\")\n",
        "  plt.show()"
      ]
    },
    {
      "cell_type": "code",
      "execution_count": null,
      "metadata": {
        "colab": {
          "base_uri": "https://localhost:8080/",
          "height": 177
        },
        "id": "ykpnAYHndi7i",
        "outputId": "7de38401-8ff7-4ae3-b8a8-4fb4d86ea441"
      },
      "outputs": [
        {
          "data": {
            "image/png": "[encoded data removed]",
            "text/plain": [
              "<Figure size 1440x216 with 1 Axes>"
            ]
          },
          "metadata": {
            "needs_background": "light"
          },
          "output_type": "display_data"
        }
      ],
      "source": [
        "grafic_line_missing_values(pd.DataFrame(a[0]))"
      ]
    },
    {
      "cell_type": "code",
      "execution_count": null,
      "metadata": {
        "id": "cOTTWvTOS74c"
      },
      "outputs": [],
      "source": [
        "def describe(df):\n",
        "  return df.describe()"
      ]
    },
    {
      "cell_type": "code",
      "execution_count": null,
      "metadata": {
        "colab": {
          "base_uri": "https://localhost:8080/",
          "height": 382
        },
        "id": "OnN8jqQgepik",
        "outputId": "d80f9a53-c439-4f51-fb71-cd00b93105c4"
      },
      "outputs": [
        {
          "data": {
            "text/html": [
              "<div>\n",
              "<style scoped>\n",
              "    .dataframe tbody tr th:only-of-type {\n",
              "        vertical-align: middle;\n",
              "    }\n",
              "\n",
              "    .dataframe tbody tr th {\n",
              "        vertical-align: top;\n",
              "    }\n",
              "\n",
              "    .dataframe thead th {\n",
              "        text-align: right;\n",
              "    }\n",
              "</style>\n",
              "<table border=\"1\" class=\"dataframe\">\n",
              "  <thead>\n",
              "    <tr style=\"text-align: right;\">\n",
              "      <th></th>\n",
              "      <th>0</th>\n",
              "      <th>1</th>\n",
              "      <th>2</th>\n",
              "      <th>3</th>\n",
              "      <th>4</th>\n",
              "      <th>5</th>\n",
              "      <th>6</th>\n",
              "      <th>7</th>\n",
              "      <th>8</th>\n",
              "      <th>9</th>\n",
              "      <th>...</th>\n",
              "      <th>62</th>\n",
              "      <th>63</th>\n",
              "      <th>64</th>\n",
              "      <th>65</th>\n",
              "      <th>66</th>\n",
              "      <th>67</th>\n",
              "      <th>68</th>\n",
              "      <th>69</th>\n",
              "      <th>70</th>\n",
              "      <th>71</th>\n",
              "    </tr>\n",
              "  </thead>\n",
              "  <tbody>\n",
              "    <tr>\n",
              "      <th>count</th>\n",
              "      <td>593.000000</td>\n",
              "      <td>593.000000</td>\n",
              "      <td>593.000000</td>\n",
              "      <td>593.000000</td>\n",
              "      <td>593.000000</td>\n",
              "      <td>593.000000</td>\n",
              "      <td>593.000000</td>\n",
              "      <td>593.000000</td>\n",
              "      <td>593.000000</td>\n",
              "      <td>593.000000</td>\n",
              "      <td>...</td>\n",
              "      <td>593.000000</td>\n",
              "      <td>593.000000</td>\n",
              "      <td>593.000000</td>\n",
              "      <td>593.000000</td>\n",
              "      <td>593.000000</td>\n",
              "      <td>593.000000</td>\n",
              "      <td>593.000000</td>\n",
              "      <td>593.000000</td>\n",
              "      <td>593.000000</td>\n",
              "      <td>593.000000</td>\n",
              "    </tr>\n",
              "    <tr>\n",
              "      <th>mean</th>\n",
              "      <td>0.069309</td>\n",
              "      <td>0.195399</td>\n",
              "      <td>0.085695</td>\n",
              "      <td>-72.998228</td>\n",
              "      <td>4.979178</td>\n",
              "      <td>0.602395</td>\n",
              "      <td>1.694625</td>\n",
              "      <td>0.634156</td>\n",
              "      <td>0.833964</td>\n",
              "      <td>0.508060</td>\n",
              "      <td>...</td>\n",
              "      <td>0.109876</td>\n",
              "      <td>0.107114</td>\n",
              "      <td>0.230008</td>\n",
              "      <td>74.456998</td>\n",
              "      <td>0.247854</td>\n",
              "      <td>155.215852</td>\n",
              "      <td>2.099494</td>\n",
              "      <td>0.412940</td>\n",
              "      <td>0.354901</td>\n",
              "      <td>0.959906</td>\n",
              "    </tr>\n",
              "    <tr>\n",
              "      <th>std</th>\n",
              "      <td>0.031293</td>\n",
              "      <td>0.117605</td>\n",
              "      <td>0.009260</td>\n",
              "      <td>7.580804</td>\n",
              "      <td>2.071792</td>\n",
              "      <td>1.017603</td>\n",
              "      <td>0.606581</td>\n",
              "      <td>0.448746</td>\n",
              "      <td>0.368312</td>\n",
              "      <td>0.303277</td>\n",
              "      <td>...</td>\n",
              "      <td>0.053819</td>\n",
              "      <td>0.059361</td>\n",
              "      <td>0.295863</td>\n",
              "      <td>14.610203</td>\n",
              "      <td>0.366541</td>\n",
              "      <td>29.807954</td>\n",
              "      <td>0.316040</td>\n",
              "      <td>0.339559</td>\n",
              "      <td>0.362262</td>\n",
              "      <td>0.651827</td>\n",
              "    </tr>\n",
              "    <tr>\n",
              "      <th>min</th>\n",
              "      <td>0.010201</td>\n",
              "      <td>0.038286</td>\n",
              "      <td>0.070932</td>\n",
              "      <td>-99.090802</td>\n",
              "      <td>0.051474</td>\n",
              "      <td>-2.277307</td>\n",
              "      <td>-0.604609</td>\n",
              "      <td>-1.143864</td>\n",
              "      <td>-0.237114</td>\n",
              "      <td>-0.444623</td>\n",
              "      <td>...</td>\n",
              "      <td>0.032472</td>\n",
              "      <td>0.031945</td>\n",
              "      <td>0.000000</td>\n",
              "      <td>0.000000</td>\n",
              "      <td>0.000000</td>\n",
              "      <td>0.000000</td>\n",
              "      <td>0.000000</td>\n",
              "      <td>0.000000</td>\n",
              "      <td>0.000000</td>\n",
              "      <td>0.000000</td>\n",
              "    </tr>\n",
              "    <tr>\n",
              "      <th>25%</th>\n",
              "      <td>0.044781</td>\n",
              "      <td>0.107742</td>\n",
              "      <td>0.079018</td>\n",
              "      <td>-77.078349</td>\n",
              "      <td>3.409922</td>\n",
              "      <td>-0.113441</td>\n",
              "      <td>1.307242</td>\n",
              "      <td>0.373195</td>\n",
              "      <td>0.605057</td>\n",
              "      <td>0.309033</td>\n",
              "      <td>...</td>\n",
              "      <td>0.075211</td>\n",
              "      <td>0.071286</td>\n",
              "      <td>0.047611</td>\n",
              "      <td>64.000000</td>\n",
              "      <td>0.007556</td>\n",
              "      <td>132.000000</td>\n",
              "      <td>2.000000</td>\n",
              "      <td>0.179411</td>\n",
              "      <td>0.099424</td>\n",
              "      <td>0.513974</td>\n",
              "    </tr>\n",
              "    <tr>\n",
              "      <th>50%</th>\n",
              "      <td>0.065251</td>\n",
              "      <td>0.169757</td>\n",
              "      <td>0.083637</td>\n",
              "      <td>-72.474302</td>\n",
              "      <td>4.642338</td>\n",
              "      <td>0.588380</td>\n",
              "      <td>1.731031</td>\n",
              "      <td>0.618838</td>\n",
              "      <td>0.819652</td>\n",
              "      <td>0.534665</td>\n",
              "      <td>...</td>\n",
              "      <td>0.096668</td>\n",
              "      <td>0.088687</td>\n",
              "      <td>0.104043</td>\n",
              "      <td>71.000000</td>\n",
              "      <td>0.077408</td>\n",
              "      <td>150.000000</td>\n",
              "      <td>2.000000</td>\n",
              "      <td>0.309902</td>\n",
              "      <td>0.246193</td>\n",
              "      <td>0.804229</td>\n",
              "    </tr>\n",
              "    <tr>\n",
              "      <th>75%</th>\n",
              "      <td>0.086290</td>\n",
              "      <td>0.257668</td>\n",
              "      <td>0.091323</td>\n",
              "      <td>-68.292848</td>\n",
              "      <td>6.439446</td>\n",
              "      <td>1.293202</td>\n",
              "      <td>2.072488</td>\n",
              "      <td>0.925091</td>\n",
              "      <td>1.051206</td>\n",
              "      <td>0.708430</td>\n",
              "      <td>...</td>\n",
              "      <td>0.125772</td>\n",
              "      <td>0.121432</td>\n",
              "      <td>0.278203</td>\n",
              "      <td>84.000000</td>\n",
              "      <td>0.325489</td>\n",
              "      <td>180.000000</td>\n",
              "      <td>2.000000</td>\n",
              "      <td>0.529859</td>\n",
              "      <td>0.472593</td>\n",
              "      <td>1.242089</td>\n",
              "    </tr>\n",
              "    <tr>\n",
              "      <th>max</th>\n",
              "      <td>0.195412</td>\n",
              "      <td>0.698277</td>\n",
              "      <td>0.159460</td>\n",
              "      <td>-56.297652</td>\n",
              "      <td>12.069754</td>\n",
              "      <td>3.910873</td>\n",
              "      <td>4.382370</td>\n",
              "      <td>2.252710</td>\n",
              "      <td>2.358098</td>\n",
              "      <td>1.484489</td>\n",
              "      <td>...</td>\n",
              "      <td>0.471506</td>\n",
              "      <td>0.415202</td>\n",
              "      <td>1.598533</td>\n",
              "      <td>115.000000</td>\n",
              "      <td>1.762948</td>\n",
              "      <td>237.000000</td>\n",
              "      <td>3.000000</td>\n",
              "      <td>1.795128</td>\n",
              "      <td>1.797765</td>\n",
              "      <td>3.422899</td>\n",
              "    </tr>\n",
              "  </tbody>\n",
              "</table>\n",
              "<p>8 rows × 72 columns</p>\n",
              "</div>"
            ],
            "text/plain": [
              "               0           1           2           3           4           5   \\\n",
              "count  593.000000  593.000000  593.000000  593.000000  593.000000  593.000000   \n",
              "mean     0.069309    0.195399    0.085695  -72.998228    4.979178    0.602395   \n",
              "std      0.031293    0.117605    0.009260    7.580804    2.071792    1.017603   \n",
              "min      0.010201    0.038286    0.070932  -99.090802    0.051474   -2.277307   \n",
              "25%      0.044781    0.107742    0.079018  -77.078349    3.409922   -0.113441   \n",
              "50%      0.065251    0.169757    0.083637  -72.474302    4.642338    0.588380   \n",
              "75%      0.086290    0.257668    0.091323  -68.292848    6.439446    1.293202   \n",
              "max      0.195412    0.698277    0.159460  -56.297652   12.069754    3.910873   \n",
              "\n",
              "               6           7           8           9   ...          62  \\\n",
              "count  593.000000  593.000000  593.000000  593.000000  ...  593.000000   \n",
              "mean     1.694625    0.634156    0.833964    0.508060  ...    0.109876   \n",
              "std      0.606581    0.448746    0.368312    0.303277  ...    0.053819   \n",
              "min     -0.604609   -1.143864   -0.237114   -0.444623  ...    0.032472   \n",
              "25%      1.307242    0.373195    0.605057    0.309033  ...    0.075211   \n",
              "50%      1.731031    0.618838    0.819652    0.534665  ...    0.096668   \n",
              "75%      2.072488    0.925091    1.051206    0.708430  ...    0.125772   \n",
              "max      4.382370    2.252710    2.358098    1.484489  ...    0.471506   \n",
              "\n",
              "               63          64          65          66          67          68  \\\n",
              "count  593.000000  593.000000  593.000000  593.000000  593.000000  593.000000   \n",
              "mean     0.107114    0.230008   74.456998    0.247854  155.215852    2.099494   \n",
              "std      0.059361    0.295863   14.610203    0.366541   29.807954    0.316040   \n",
              "min      0.031945    0.000000    0.000000    0.000000    0.000000    0.000000   \n",
              "25%      0.071286    0.047611   64.000000    0.007556  132.000000    2.000000   \n",
              "50%      0.088687    0.104043   71.000000    0.077408  150.000000    2.000000   \n",
              "75%      0.121432    0.278203   84.000000    0.325489  180.000000    2.000000   \n",
              "max      0.415202    1.598533  115.000000    1.762948  237.000000    3.000000   \n",
              "\n",
              "               69          70          71  \n",
              "count  593.000000  593.000000  593.000000  \n",
              "mean     0.412940    0.354901    0.959906  \n",
              "std      0.339559    0.362262    0.651827  \n",
              "min      0.000000    0.000000    0.000000  \n",
              "25%      0.179411    0.099424    0.513974  \n",
              "50%      0.309902    0.246193    0.804229  \n",
              "75%      0.529859    0.472593    1.242089  \n",
              "max      1.795128    1.797765    3.422899  \n",
              "\n",
              "[8 rows x 72 columns]"
            ]
          },
          "execution_count": 50,
          "metadata": {},
          "output_type": "execute_result"
        }
      ],
      "source": [
        "describe(pd.DataFrame(data[0]))"
      ]
    },
    {
      "cell_type": "code",
      "execution_count": null,
      "metadata": {
        "id": "BIcDtz3iR647"
      },
      "outputs": [],
      "source": [
        "#Instalando o panda profile\n",
        "#!pip install pandas-profiling\n",
        "#from pandas_profiling import ProfileReport"
      ]
    },
    {
      "cell_type": "markdown",
      "metadata": {
        "id": "7wPYq4x_0KWO"
      },
      "source": [
        "#Imputação de dados\n",
        "\n",
        "\n",
        "*   k-Nearest Neighbors (kNN) Imputation\n",
        "*   mean\n",
        "*   most_frequent\n",
        "*   median\n",
        "\n",
        "\n",
        "\n",
        "\n",
        "\n"
      ]
    },
    {
      "cell_type": "markdown",
      "metadata": {
        "id": "WkyeF0EcTuKZ"
      },
      "source": [
        "# Criação da população inicial"
      ]
    },
    {
      "cell_type": "markdown",
      "metadata": {
        "id": "AzeUjJXcrELk"
      },
      "source": [
        "A população inicial é formada por variações do imputações simples, ou seja, cada indivíduo é um dataset completo com um técnica ou configuração diferente de imputação."
      ]
    },
    {
      "cell_type": "code",
      "execution_count": null,
      "metadata": {
        "id": "Pd6sRrGrqZAg"
      },
      "outputs": [],
      "source": [
        "from sklearn.impute import KNNImputer\n",
        "def knnImp(dataset_amputed,neighbors):\n",
        "  inputer_knn = KNNImputer(n_neighbors=neighbors)\n",
        "  X_imputed_knn = inputer_knn.fit_transform(dataset_amputed)\n",
        "  return X_imputed_knn"
      ]
    },
    {
      "cell_type": "code",
      "execution_count": null,
      "metadata": {
        "id": "C3SkM1xk7vIU"
      },
      "outputs": [],
      "source": [
        "def rfImp(dataset_amputed):\n",
        "  from missingpy import MissForest\n",
        "  imputer_RFI = MissForest()\n",
        "  X_imputed_RFI = imputer_RFI.fit_transform(dataset_amputed)\n",
        "  return X_imputed_RFI"
      ]
    },
    {
      "cell_type": "code",
      "execution_count": null,
      "metadata": {
        "id": "Yw0V-7kG7yOb"
      },
      "outputs": [],
      "source": [
        "def meanImp(dataset_amputed):\n",
        "  from sklearn.impute import SimpleImputer\n",
        "  imputer_mean = SimpleImputer(missing_values=np.nan, strategy='mean')\n",
        "  imputer_mean=imputer_mean.fit(dataset_amputed)\n",
        "  X_imputed_mean = imputer_mean.transform(dataset_amputed)\n",
        "  return X_imputed_mean"
      ]
    },
    {
      "cell_type": "code",
      "execution_count": null,
      "metadata": {
        "id": "KtK_OGWb6vgo"
      },
      "outputs": [],
      "source": [
        "def mostFrequentImp(dataset_amputed):\n",
        "  from sklearn.impute import SimpleImputer\n",
        "  imputer_most_frequent = SimpleImputer(missing_values=np.nan, strategy='most_frequent')\n",
        "  imputer_most_frequent=imputer_most_frequent.fit(dataset_amputed)\n",
        "  X_imputed_most_frequent=imputer_most_frequent.transform(dataset_amputed)\n",
        "  return X_imputed_most_frequent"
      ]
    },
    {
      "cell_type": "code",
      "execution_count": null,
      "metadata": {
        "id": "TzfM_qWNrDpv"
      },
      "outputs": [],
      "source": [
        "def medianImp(dataset_amputed):\n",
        "  from sklearn.impute import SimpleImputer\n",
        "  imputer_median = SimpleImputer(missing_values=np.nan, strategy='median')\n",
        "  imputer_median=imputer_median.fit(dataset_amputed)\n",
        "  X_imputed_median=imputer_median.transform(dataset_amputed)\n",
        "  return X_imputed_median"
      ]
    },
    {
      "cell_type": "code",
      "execution_count": null,
      "metadata": {
        "id": "N1XnhB0Vfz96"
      },
      "outputs": [],
      "source": [
        "def imputation(method, df):\n",
        "  #import gerais\n",
        "  import sklearn.neighbors._base\n",
        "  import sys\n",
        "  sys.modules['sklearn.neighbors.base'] = sklearn.neighbors._base\n",
        "  \n",
        "\n",
        "  if method == 'mean':\n",
        "    base_imputada = meanImp(df)\n",
        "  elif method == 'median':\n",
        "    base_imputada = medianImp(df)\n",
        "  elif method == 'most_frequent':\n",
        "    base_imputada = mostFrequentImp(df)\n",
        "  elif method == 'knn-3':\n",
        "    base_imputada = knnImp(df,3)\n",
        "  elif method == 'knn-5':\n",
        "    base_imputada = knnImp(df,5)\n",
        "  elif method == 'knn-10':\n",
        "    base_imputada = knnImp(df,10)\n",
        "  return base_imputada\n"
      ]
    },
    {
      "cell_type": "markdown",
      "metadata": {
        "id": "rZbcIa_znjSZ"
      },
      "source": [
        "Padronização dos dados"
      ]
    },
    {
      "cell_type": "code",
      "execution_count": null,
      "metadata": {
        "id": "DQoEHMe-jHq-"
      },
      "outputs": [],
      "source": [
        "imputation_meth  = ['knn-3','knn-5','knn-10', 'mean', 'most_frequent', 'median']\n",
        "inds = []\n",
        "df_amp = pd.DataFrame(a[0])\n",
        "for i  in imputation_meth:\n",
        "  inds.append(imputation(i,df_amp))"
      ]
    },
    {
      "cell_type": "code",
      "execution_count": null,
      "metadata": {
        "colab": {
          "base_uri": "https://localhost:8080/"
        },
        "id": "kS4lkrChphh4",
        "outputId": "147a8883-30d7-4e8b-9052-53817d3b5d88"
      },
      "outputs": [
        {
          "data": {
            "text/plain": [
              "[array([[0.034741  , 0.089665  , 0.091225  , ..., 0.245457  , 0.105065  ,\n",
              "         0.405399  ],\n",
              "        [0.081374  , 0.272747  , 0.085733  , ..., 0.343547  , 0.276366  ,\n",
              "         0.55982467],\n",
              "        [0.110545  , 0.273567  , 0.08441   , ..., 0.188693  , 0.045941  ,\n",
              "         0.457372  ],\n",
              "        ...,\n",
              "        [0.035169  , 0.065403  , 0.07922533, ..., 0.3434    , 0.33011633,\n",
              "         0.476993  ],\n",
              "        [0.054276  , 0.238158  , 0.080122  , ..., 0.547126  , 0.71954233,\n",
              "         1.21660733],\n",
              "        [0.073194  , 0.140733  , 0.080545  , ..., 0.224925  , 0.09307067,\n",
              "         0.451701  ]]),\n",
              " array([[0.034741 , 0.089665 , 0.091225 , ..., 0.245457 , 0.105065 ,\n",
              "         0.405399 ],\n",
              "        [0.081374 , 0.272747 , 0.085733 , ..., 0.343547 , 0.276366 ,\n",
              "         0.6547044],\n",
              "        [0.110545 , 0.273567 , 0.08441  , ..., 0.188693 , 0.045941 ,\n",
              "         0.457372 ],\n",
              "        ...,\n",
              "        [0.035169 , 0.065403 , 0.078842 , ..., 0.3074762, 0.4530174,\n",
              "         0.476993 ],\n",
              "        [0.054276 , 0.238158 , 0.0809624, ..., 0.547126 , 0.5272744,\n",
              "         1.4028562],\n",
              "        [0.073194 , 0.140733 , 0.080545 , ..., 0.2473942, 0.1669178,\n",
              "         0.451701 ]]),\n",
              " array([[0.034741 , 0.089665 , 0.091225 , ..., 0.245457 , 0.105065 ,\n",
              "         0.405399 ],\n",
              "        [0.081374 , 0.272747 , 0.085733 , ..., 0.343547 , 0.276366 ,\n",
              "         1.0862518],\n",
              "        [0.110545 , 0.273567 , 0.08441  , ..., 0.188693 , 0.045941 ,\n",
              "         0.457372 ],\n",
              "        ...,\n",
              "        [0.035169 , 0.065403 , 0.0805485, ..., 0.36749  , 0.4038391,\n",
              "         0.476993 ],\n",
              "        [0.054276 , 0.238158 , 0.0879352, ..., 0.547126 , 0.496517 ,\n",
              "         1.2811777],\n",
              "        [0.073194 , 0.140733 , 0.080545 , ..., 0.2825329, 0.1586649,\n",
              "         0.451701 ]]),\n",
              " array([[0.034741  , 0.089665  , 0.091225  , ..., 0.245457  , 0.105065  ,\n",
              "         0.405399  ],\n",
              "        [0.081374  , 0.272747  , 0.085733  , ..., 0.343547  , 0.276366  ,\n",
              "         0.94677552],\n",
              "        [0.110545  , 0.273567  , 0.08441   , ..., 0.188693  , 0.045941  ,\n",
              "         0.457372  ],\n",
              "        ...,\n",
              "        [0.035169  , 0.065403  , 0.08559945, ..., 0.421802  , 0.36700452,\n",
              "         0.476993  ],\n",
              "        [0.054276  , 0.238158  , 0.08559945, ..., 0.547126  , 0.36700452,\n",
              "         0.94677552],\n",
              "        [0.073194  , 0.140733  , 0.080545  , ..., 0.421802  , 0.36700452,\n",
              "         0.451701  ]]),\n",
              " array([[0.034741, 0.089665, 0.091225, ..., 0.245457, 0.105065, 0.405399],\n",
              "        [0.081374, 0.272747, 0.085733, ..., 0.343547, 0.276366, 0.      ],\n",
              "        [0.110545, 0.273567, 0.08441 , ..., 0.188693, 0.045941, 0.457372],\n",
              "        ...,\n",
              "        [0.035169, 0.065403, 0.075452, ..., 0.      , 0.      , 0.476993],\n",
              "        [0.054276, 0.238158, 0.075452, ..., 0.547126, 0.      , 0.      ],\n",
              "        [0.073194, 0.140733, 0.080545, ..., 0.      , 0.      , 0.451701]]),\n",
              " array([[0.034741 , 0.089665 , 0.091225 , ..., 0.245457 , 0.105065 ,\n",
              "         0.405399 ],\n",
              "        [0.081374 , 0.272747 , 0.085733 , ..., 0.343547 , 0.276366 ,\n",
              "         0.803608 ],\n",
              "        [0.110545 , 0.273567 , 0.08441  , ..., 0.188693 , 0.045941 ,\n",
              "         0.457372 ],\n",
              "        ...,\n",
              "        [0.035169 , 0.065403 , 0.083688 , ..., 0.3061155, 0.247981 ,\n",
              "         0.476993 ],\n",
              "        [0.054276 , 0.238158 , 0.083688 , ..., 0.547126 , 0.247981 ,\n",
              "         0.803608 ],\n",
              "        [0.073194 , 0.140733 , 0.080545 , ..., 0.3061155, 0.247981 ,\n",
              "         0.451701 ]])]"
            ]
          },
          "execution_count": 58,
          "metadata": {},
          "output_type": "execute_result"
        }
      ],
      "source": [
        "inds"
      ]
    },
    {
      "cell_type": "code",
      "execution_count": null,
      "metadata": {
        "colab": {
          "base_uri": "https://localhost:8080/"
        },
        "id": "CVNMKwXTymeK",
        "outputId": "9de6fae6-0712-42c1-9718-afd8b65a0347"
      },
      "outputs": [
        {
          "data": {
            "text/plain": [
              "6"
            ]
          },
          "execution_count": 59,
          "metadata": {},
          "output_type": "execute_result"
        }
      ],
      "source": [
        "len(inds)"
      ]
    },
    {
      "cell_type": "markdown",
      "metadata": {
        "id": "wkb_zkp0yY2z"
      },
      "source": [
        "Normmalização da população inicial"
      ]
    },
    {
      "cell_type": "code",
      "execution_count": null,
      "metadata": {
        "id": "2mikxk_rycxi"
      },
      "outputs": [],
      "source": [
        "populationInitial = inds\n",
        "#for i in range(len(populationInitial)):\n",
        "#  populationInitial.append(padronizacao(populationInitial[i]))"
      ]
    },
    {
      "cell_type": "code",
      "execution_count": null,
      "metadata": {
        "colab": {
          "base_uri": "https://localhost:8080/"
        },
        "id": "I8iRKpnyzW0t",
        "outputId": "395ab67e-7ab6-4369-f50b-b8fe667227f8"
      },
      "outputs": [
        {
          "data": {
            "text/plain": [
              "6"
            ]
          },
          "execution_count": 61,
          "metadata": {},
          "output_type": "execute_result"
        }
      ],
      "source": [
        "len(populationInitial)"
      ]
    },
    {
      "cell_type": "code",
      "execution_count": null,
      "metadata": {
        "colab": {
          "base_uri": "https://localhost:8080/"
        },
        "id": "L1QEylYqEcz5",
        "outputId": "74c10f5e-4f65-43f8-d864-533278c46003"
      },
      "outputs": [
        {
          "data": {
            "text/plain": [
              "((530, 72), (530, 72))"
            ]
          },
          "execution_count": 62,
          "metadata": {},
          "output_type": "execute_result"
        }
      ],
      "source": [
        "inds[0].shape, populationInitial[0].shape"
      ]
    },
    {
      "cell_type": "code",
      "execution_count": null,
      "metadata": {
        "colab": {
          "base_uri": "https://localhost:8080/"
        },
        "id": "rd1TSLkHJCNb",
        "outputId": "8867a52d-1e15-4f0c-d19a-c0d6ac29164b"
      },
      "outputs": [
        {
          "data": {
            "text/plain": [
              "((530, 72), (530, 6))"
            ]
          },
          "execution_count": 63,
          "metadata": {},
          "output_type": "execute_result"
        }
      ],
      "source": [
        "X_train.shape, y_train.shape"
      ]
    },
    {
      "cell_type": "code",
      "execution_count": null,
      "metadata": {
        "colab": {
          "base_uri": "https://localhost:8080/"
        },
        "id": "TzEK9KYHihkJ",
        "outputId": "b370d311-4d5d-4365-ca9f-97b39ac89e21"
      },
      "outputs": [
        {
          "data": {
            "text/plain": [
              "array([0, 1])"
            ]
          },
          "execution_count": 65,
          "metadata": {},
          "output_type": "execute_result"
        }
      ],
      "source": [
        "np.unique(y_test)"
      ]
    },
    {
      "cell_type": "markdown",
      "metadata": {
        "id": "DoZPhSHmBA4e"
      },
      "source": [
        "# Função Fitness\n",
        "\n",
        "Os indivíduos da população são avaliados no aprendizado multirrótulo.\n",
        "Neste experimento, serão testados algorítmos que transformam o problema e algorítmos que adaptam o problema."
      ]
    },
    {
      "cell_type": "code",
      "execution_count": null,
      "metadata": {
        "id": "sd3bn8VHS-ik"
      },
      "outputs": [],
      "source": [
        "from skmultilearn.problem_transform import BinaryRelevance\n",
        "from sklearn.metrics import accuracy_score\n",
        "from sklearn.metrics import hamming_loss\n",
        "from sklearn.metrics import f1_score\n",
        "from sklearn.ensemble import RandomForestClassifier\n",
        "from sklearn.svm import SVC\n",
        "from sklearn.ensemble import RandomForestClassifier\n",
        "from sklearn.neighbors import KNeighborsClassifier\n",
        "\n",
        "def evaluation_BinaryRelevance(core_algorithm, individual):\n",
        "  p = []\n",
        "  if core_algorithm == 'svm':\n",
        "    classifier_br = BinaryRelevance(classifier=SVC(C=50),require_dense=[False, True])#\n",
        "    classifier_br.fit(individual, y_train)\n",
        "    prediction_br = classifier_br.predict(X_test)\n",
        "\n",
        "    F1 = f1_score(y_test, prediction_br, average='micro')\n",
        "    ACC = accuracy_score(y_test, prediction_br)\n",
        "    HL = hamming_loss(y_test, prediction_br)\n",
        "\n",
        "  elif core_algorithm == 'randomForest':\n",
        "    classifier = BinaryRelevance(classifier = RandomForestClassifier(),require_dense = [False, True])\n",
        "    classifier.fit(individual, y_train)\n",
        "    prediction_br_RFC=classifier.predict(X_test)\n",
        "\n",
        "    F1 = f1_score(y_test, prediction_br_RFC, average='micro')\n",
        "    ACC = accuracy_score(y_test, prediction_br_RFC)\n",
        "    HL = hamming_loss(y_test, prediction_br_RFC)\n",
        "  elif core_algorithm == '3nn':\n",
        "    classifier = BinaryRelevance(classifier = KNeighborsClassifier(n_neighbors=3))\n",
        "    classifier.fit(individual, y_train)\n",
        "    prediction_br_3knn=classifier.predict(X_test)\n",
        "\n",
        "    F1 = f1_score(y_test, prediction_br_3knn, average='micro')\n",
        "    ACC = accuracy_score(y_test, prediction_br_3knn)\n",
        "    HL = hamming_loss(y_test, prediction_br_3knn)\n",
        "  elif core_algorithm == '5nn':\n",
        "    classifier = BinaryRelevance(classifier = KNeighborsClassifier())\n",
        "    classifier.fit(individual, y_train)\n",
        "    prediction_br_5knn=classifier.predict(X_test)\n",
        "\n",
        "    F1 = f1_score(y_test, prediction_br_5knn, average='micro')\n",
        "    ACC = accuracy_score(y_test, prediction_br_5knn)\n",
        "    HL = hamming_loss(y_test, prediction_br_5knn)\n",
        "  elif core_algorithm == '10nn':\n",
        "    classifier = BinaryRelevance(classifier = KNeighborsClassifier(n_neighbors=10))\n",
        "    classifier.fit(individual, y_train)\n",
        "    prediction_br_10knn=classifier.predict(X_test)\n",
        "\n",
        "    F1 = f1_score(y_test, prediction_br_10knn, average='micro')\n",
        "    ACC = accuracy_score(y_test, prediction_br_10knn)\n",
        "    HL = hamming_loss(y_test, prediction_br_10knn) \n",
        "  elif core_algorithm == 'lr':\n",
        "    from sklearn.linear_model import LogisticRegression\n",
        "    classifier = BinaryRelevance(classifier = LogisticRegression())\n",
        "    classifier.fit(individual, y_train)\n",
        "    prediction_br_lr=classifier.predict(X_test)\n",
        "\n",
        "    F1 = f1_score(y_test, prediction_br_lr, average='micro')\n",
        "    ACC = accuracy_score(y_test, prediction_br_lr)\n",
        "    HL = hamming_loss(y_test, prediction_br_lr)\n",
        "  return ACC,F1,HL"
      ]
    },
    {
      "cell_type": "markdown",
      "metadata": {
        "id": "GDqtuzj9kWNQ"
      },
      "source": [
        "Avaliação com Classificador Binary Relevance - Metricas: Exact Match, Accuracy and Hamming Loss"
      ]
    },
    {
      "cell_type": "code",
      "execution_count": null,
      "metadata": {
        "id": "1wG3gNpfVgi-"
      },
      "outputs": [],
      "source": [
        "from skmultilearn.problem_transform import BinaryRelevance\n",
        "from sklearn.metrics import accuracy_score\n",
        "from sklearn.metrics import hamming_loss\n",
        "from sklearn.metrics import f1_score\n",
        "from sklearn.ensemble import RandomForestClassifier\n",
        "from sklearn.svm import SVC\n",
        "from sklearn.ensemble import RandomForestClassifier\n",
        "from sklearn.neighbors import KNeighborsClassifier\n",
        "\n",
        "#Exact Match\n",
        "def acc_multi(y_true, y_pred):\n",
        "  class_accuracies = []\n",
        "  for class_ in np.unique(y_true):\n",
        "    #print('classe:', class_)\n",
        "    #print('y_pred[y_true == class_]: ',y_pred[y_true == class_])\n",
        "    #print('y_pred[y_true == class_] == class_: ',y_pred[y_true == class_] == class_)\n",
        "    class_acc = np.mean(y_pred[y_true == class_] == class_)\n",
        "    #print('class_acc:',class_acc)\n",
        "    class_accuracies.append(class_acc)\n",
        "    #print('------------------------------')\n",
        "  #for i in class_accuracies:\n",
        "    #print(i)\n",
        "    \n",
        "  return np.mean(class_accuracies)\n",
        "\n",
        "def example_based_accuracy(y_true, y_pred):\n",
        "    \n",
        "    # compute true positives using the logical AND operator\n",
        "    numerator = np.sum(np.logical_and(y_true, y_pred), axis = 1)\n",
        "\n",
        "    # compute true_positive + false negatives + false positive using the logical OR operator\n",
        "    denominator = np.sum(np.logical_or(y_true, y_pred), axis = 1)\n",
        "    instance_accuracy = numerator/denominator\n",
        "\n",
        "    avg_accuracy = np.mean(instance_accuracy)\n",
        "    return avg_accuracy\n",
        "\n",
        "#ex_based_accuracy = example_based_accuracy(y_true, y_pred)\n",
        "#print(f\"Example Based Accuracy: {ex_based_accuracy}\")\n",
        "\n",
        "def evaluation_multirrotulo(core_algorithm, individual):\n",
        "  p = []\n",
        "  if core_algorithm == 'svm':\n",
        "    classifier_br = BinaryRelevance(classifier=SVC(C=50),require_dense=[False, True])#\n",
        "    classifier_br.fit(individual, y_train)\n",
        "    prediction_br = classifier_br.predict(X_test)\n",
        "\n",
        "\n",
        "    F1 = f1_score(y_test, prediction_br, average='micro')\n",
        "    #ACC2 = example_based_accuracy(y_test, prediction_br)\n",
        "    EM = accuracy_score(y_test, prediction_br) #EM in multi é equivante a ACC em binário Classifier\n",
        "    ACC = acc_multi(y_test, prediction_br)\n",
        "    HL = hamming_loss(y_test, prediction_br)\n",
        "    #print('ACC = ', EM)\n",
        "\n",
        "  elif core_algorithm == 'randomForest':\n",
        "    classifier = BinaryRelevance(classifier = RandomForestClassifier(),require_dense = [False, True])\n",
        "    classifier.fit(individual, y_train)\n",
        "    prediction_br_RFC=classifier.predict(X_test)\n",
        "\n",
        "    F1 = f1_score(y_test, prediction_br_RFC, average='micro')\n",
        "    EM = accuracy_score(y_test, prediction_br_RFC)\n",
        "    HL = hamming_loss(y_test, prediction_br_RFC)\n",
        "    ACC = acc_multi(y_test, prediction_br_RFC)\n",
        "\n",
        "  elif core_algorithm == '3nn':\n",
        "    classifier = BinaryRelevance(classifier = KNeighborsClassifier(n_neighbors=3))\n",
        "    classifier.fit(individual, y_train)\n",
        "    prediction_br_3knn=classifier.predict(X_test)\n",
        "\n",
        "    F1 = f1_score(y_test, prediction_br_3knn, average='micro')\n",
        "    EM = accuracy_score(y_test, prediction_br_3knn)\n",
        "    HL = hamming_loss(y_test, prediction_br_3knn)\n",
        "    ACC = acc_multi(y_test, prediction_br_3knn)\n",
        "  elif core_algorithm == '5nn':\n",
        "    classifier = BinaryRelevance(classifier = KNeighborsClassifier())\n",
        "    classifier.fit(individual, y_train)\n",
        "    prediction_br_5knn=classifier.predict(X_test)\n",
        "\n",
        "    F1 = f1_score(y_test, prediction_br_5knn, average='micro')\n",
        "    EM = accuracy_score(y_test, prediction_br_5knn)\n",
        "    HL = hamming_loss(y_test, prediction_br_5knn)\n",
        "    ACC = acc_multi(y_test, prediction_br_5knn)\n",
        "  elif core_algorithm == '10nn':\n",
        "    classifier = BinaryRelevance(classifier = KNeighborsClassifier(n_neighbors=10))\n",
        "    classifier.fit(individual, y_train)\n",
        "    prediction_br_10knn=classifier.predict(X_test)\n",
        "\n",
        "    F1 = f1_score(y_test, prediction_br_10knn, average='micro')\n",
        "    EM = accuracy_score(y_test, prediction_br_10knn)\n",
        "    HL = hamming_loss(y_test, prediction_br_10knn) \n",
        "    ACC = acc_multi(y_test, prediction_br_10knn)\n",
        "  elif core_algorithm == 'lr':\n",
        "    from sklearn.linear_model import LogisticRegression\n",
        "    classifier = BinaryRelevance(classifier = LogisticRegression())\n",
        "    classifier.fit(individual, y_train)\n",
        "    prediction_br_lr=classifier.predict(X_test)\n",
        "\n",
        "    F1 = f1_score(y_test, prediction_br_lr, average='micro')\n",
        "    EM = accuracy_score(y_test, prediction_br_lr)\n",
        "    HL = hamming_loss(y_test, prediction_br_lr)\n",
        "    ACC = acc_multi(y_test, prediction_br_lr)\n",
        "  return EM,ACC,HL"
      ]
    },
    {
      "cell_type": "code",
      "execution_count": null,
      "metadata": {
        "colab": {
          "base_uri": "https://localhost:8080/"
        },
        "id": "IgaIfYDLZoYw",
        "outputId": "66c9262f-d8bd-495c-a0d1-715661c8ae65"
      },
      "outputs": [
        {
          "data": {
            "text/plain": [
              "0.875"
            ]
          },
          "execution_count": 68,
          "metadata": {},
          "output_type": "execute_result"
        }
      ],
      "source": [
        "acc_multi(np.array([[1,1,0],[1,1,0]]),np.array([[0,1,0],[1,1,0]]))\n",
        "#output\n",
        "#classe: 0\n",
        "#y_pred[y_true == class_]:  [0 0]\n",
        "#y_pred[y_true == class_] == class_:  [ True  True]\n",
        "#class_acc: 1.0\n",
        "#------------------------------\n",
        "#classe: 1\n",
        "#y_pred[y_true == class_]:  [0 1 1 1]\n",
        "#y_pred[y_true == class_] == class_:  [False  True  True  True]\n",
        "#class_acc: 0.75\n",
        "#------------------------------\n",
        "#0.875"
      ]
    },
    {
      "cell_type": "markdown",
      "metadata": {
        "id": "CzRGlD9lW_we"
      },
      "source": [
        "Não executando Random Forest devido também ser um algorítmo que funciona como bagging"
      ]
    },
    {
      "cell_type": "code",
      "execution_count": null,
      "metadata": {
        "id": "JNLdMpOzFv5A"
      },
      "outputs": [],
      "source": [
        "def melhor_ind_(populacao,index=0):\n",
        "  #EM[0][0][0],ACC[0][0][1],HL[0][0][2]\n",
        "  best = populacao[0]\n",
        "  #print(best[0][0])\n",
        "  for ind in populacao:\n",
        "    next = ind\n",
        "    #print(next[0][0])\n",
        "    #break\n",
        "    if next[0][0]>best[0][0] :\n",
        "      best = next\n",
        "    elif next[0][0] == best[0][0]:\n",
        "      if next[0][1]>best[0][1]:\n",
        "        best = next\n",
        "      elif next[0][1] == best[0][1]:\n",
        "        if next[0][2]<best[0][2]:\n",
        "          best = next\n",
        "        else:\n",
        "          best = best\n",
        "      else:\n",
        "        best = best\n",
        "    print(best[0][0])      \n",
        "  return best"
      ]
    },
    {
      "cell_type": "code",
      "execution_count": null,
      "metadata": {
        "id": "mYQqmUT1ljiS"
      },
      "outputs": [],
      "source": [
        "def ordenacao_populacao(populacao,index=0):\n",
        "  best = populacao[index]\n",
        "  s = []\n",
        "  if(len(populacao)<2):\n",
        "    s.append(best)\n",
        "  else:\n",
        "    next = populacao[index+1]\n",
        "    print(best)\n",
        "    print('-----------------------------')\n",
        "    print(next)\n",
        "    print('-----------------------------')\n",
        "    print(next[0][0])\n",
        "    print('tamanho da população atual: ', len(populacao))\n",
        "    print('lista de individuos ordenados: ', len(s))\n",
        "    if(next[0][0]>best[0][0]):\n",
        "      print('melhor EM')\n",
        "      best = next\n",
        "      s.append(best)\n",
        "      populacao.pop(index+1)\n",
        "    elif next[0][0] == best[0][0]:\n",
        "      if next[0][1]>best[0][1]:\n",
        "        print('melhor ACC')\n",
        "        best = next\n",
        "        s.append(best)\n",
        "        populacao.pop(index+1)\n",
        "      elif next[0][1] == best[0][1]:\n",
        "        if next[0][2]<best[0][2]:\n",
        "          print('melhor HL')\n",
        "          best = next\n",
        "          s.append(best)\n",
        "          populacao.pop(index+1)\n",
        "        else:\n",
        "          print('O atual é o melhror')\n",
        "          s.append(best)\n",
        "          populacao.pop(index)\n",
        "      else:\n",
        "        print('else ACC')\n",
        "        s.append(best)\n",
        "        print('index', index)\n",
        "        print('removido',populacao.pop(index))\n",
        "    else:\n",
        "      print('else EM')\n",
        "      s.append([best])\n",
        "      print('index', index)\n",
        "      populacao.pop(index)\n",
        "    print(len(s))\n",
        "    s.append(ordenacao_populacao(populacao, index+1))\n",
        "    print('tamanho da lista recurs: ', len(s))\n",
        "  return s"
      ]
    },
    {
      "cell_type": "markdown",
      "metadata": {
        "id": "Q-T3-bYwkl-t"
      },
      "source": [
        "Avaliando os individuos da população"
      ]
    },
    {
      "cell_type": "code",
      "execution_count": null,
      "metadata": {
        "id": "p21scXM_Utnr"
      },
      "outputs": [],
      "source": [
        "def fitness_multiObjetivo(population,base_algoritmo):\n",
        "  sort_pop = []\n",
        "  metrica = []\n",
        "  bests = []\n",
        "  aval_total_ind = []\n",
        "  populacao = []\n",
        "  sort_dsc=[]\n",
        "  sort_asc=[]\n",
        "  indivuduos = {}\n",
        "  accuracy = {}\n",
        "  #print('tam_pop_atual: ',len(population))\n",
        "  print('Avaliação com Binary Relevance - População com '+str(len(population))+' individuos')\n",
        "  indexx = 0\n",
        "  for i in range(len(population)):\n",
        "    #print('Individual - ',i)\n",
        "    E,A,H = evaluation_multirrotulo(base_algoritmo, population[indexx])\n",
        "    print('ind:['+str(i)+'] - '+str(E)+' '+ str(A)+' '+str(H) )\n",
        "    \n",
        "    #realizando o calculo multiobjetivo: sum = acc+f1-hl\n",
        "    #sum = E+A-H\n",
        "    metrica.append([E,A,H])\n",
        "    populacao.append([[E,A,H], population[indexx]])\n",
        "    indexx = indexx+1\n",
        "    sort_dsc=[]\n",
        "    sort_asc=[]\n",
        "    melhor =''\n",
        "    pior=''\n",
        "  #fitness = melhor_ind_(populacao)\n",
        "  return sorted(populacao, key=lambda x: x[0][0], reverse=True)"
      ]
    },
    {
      "cell_type": "code",
      "execution_count": null,
      "metadata": {
        "colab": {
          "base_uri": "https://localhost:8080/"
        },
        "id": "HXALL7yjLsEr",
        "outputId": "2307fd50-376a-4b84-dd3e-b77e7637ad05"
      },
      "outputs": [
        {
          "name": "stdout",
          "output_type": "stream",
          "text": [
            "Avaliação com Binary Relevance - População com 6 individuos\n",
            "ind:[0] - 0.2222222222222222 0.664314789687924 0.2328042328042328\n",
            "ind:[1] - 0.2222222222222222 0.6704884667571235 0.23544973544973544\n",
            "ind:[2] - 0.2222222222222222 0.660583446404342 0.23809523809523808\n",
            "ind:[3] - 0.20634920634920634 0.6496268656716417 0.24603174603174602\n",
            "ind:[4] - 0.07936507936507936 0.5893826322930801 0.25925925925925924\n",
            "ind:[5] - 0.20634920634920634 0.660583446404342 0.23809523809523808\n"
          ]
        }
      ],
      "source": [
        "r = fitness_multiObjetivo(populationInitial,'svm')"
      ]
    },
    {
      "cell_type": "code",
      "execution_count": null,
      "metadata": {
        "colab": {
          "base_uri": "https://localhost:8080/"
        },
        "id": "kEr8rbPfFoLZ",
        "outputId": "32d70c7c-a26c-4c38-f7b6-7a376f9322cd"
      },
      "outputs": [
        {
          "name": "stdout",
          "output_type": "stream",
          "text": [
            "[0.2222222222222222, 0.664314789687924, 0.2328042328042328]\n",
            "[0.2222222222222222, 0.6704884667571235, 0.23544973544973544]\n",
            "[0.2222222222222222, 0.660583446404342, 0.23809523809523808]\n",
            "[0.20634920634920634, 0.6496268656716417, 0.24603174603174602]\n",
            "[0.20634920634920634, 0.660583446404342, 0.23809523809523808]\n",
            "[0.07936507936507936, 0.5893826322930801, 0.25925925925925924]\n"
          ]
        }
      ],
      "source": [
        "for i in r:\n",
        "  print(i[0])"
      ]
    },
    {
      "cell_type": "code",
      "execution_count": null,
      "metadata": {
        "colab": {
          "base_uri": "https://localhost:8080/"
        },
        "id": "IOrkZJp45MdJ",
        "outputId": "8b6daed1-ee38-4e61-84b6-463c52ed3c6e"
      },
      "outputs": [
        {
          "data": {
            "text/plain": [
              "[[0.2222222222222222, 0.6704884667571235, 0.23544973544973544],\n",
              " array([[0.034741 , 0.089665 , 0.091225 , ..., 0.245457 , 0.105065 ,\n",
              "         0.405399 ],\n",
              "        [0.081374 , 0.272747 , 0.085733 , ..., 0.343547 , 0.276366 ,\n",
              "         0.6547044],\n",
              "        [0.110545 , 0.273567 , 0.08441  , ..., 0.188693 , 0.045941 ,\n",
              "         0.457372 ],\n",
              "        ...,\n",
              "        [0.035169 , 0.065403 , 0.078842 , ..., 0.3074762, 0.4530174,\n",
              "         0.476993 ],\n",
              "        [0.054276 , 0.238158 , 0.0809624, ..., 0.547126 , 0.5272744,\n",
              "         1.4028562],\n",
              "        [0.073194 , 0.140733 , 0.080545 , ..., 0.2473942, 0.1669178,\n",
              "         0.451701 ]])]"
            ]
          },
          "execution_count": 74,
          "metadata": {},
          "output_type": "execute_result"
        }
      ],
      "source": [
        "r[1]"
      ]
    },
    {
      "cell_type": "markdown",
      "metadata": {
        "id": "14CjcZ3EV2yu"
      },
      "source": [
        "# Seleção"
      ]
    },
    {
      "cell_type": "markdown",
      "metadata": {
        "id": "ZViuqxbjV-jh"
      },
      "source": [
        "O processo de seleçãp é dado por torneio, sorteando dois pais"
      ]
    },
    {
      "cell_type": "code",
      "execution_count": null,
      "metadata": {
        "id": "DGNcm10nVutM"
      },
      "outputs": [],
      "source": [
        "import random\n",
        "def selecao(pop_atual):\n",
        "  sorteio1 = random.choice(range(len(pop_atual)))\n",
        "  #print(sorteio1)\n",
        "  sorteio2 = random.choice(range(len(pop_atual)))\n",
        "  #print(sorteio2)\n",
        "  pai1 = pop_atual[sorteio1]\n",
        "  pai2 = pop_atual[sorteio2]\n",
        "  if(pai1[0][0] >= pai2[0][0]):\n",
        "    return pai1\n",
        "  else:\n",
        "    return pai2"
      ]
    },
    {
      "cell_type": "code",
      "execution_count": null,
      "metadata": {
        "colab": {
          "base_uri": "https://localhost:8080/"
        },
        "id": "iH7qbHw699BW",
        "outputId": "1f23cb90-5ebb-454f-dc70-9d5700778392"
      },
      "outputs": [
        {
          "data": {
            "text/plain": [
              "[[0.2222222222222222, 0.6704884667571235, 0.23544973544973544],\n",
              " array([[0.034741 , 0.089665 , 0.091225 , ..., 0.245457 , 0.105065 ,\n",
              "         0.405399 ],\n",
              "        [0.081374 , 0.272747 , 0.085733 , ..., 0.343547 , 0.276366 ,\n",
              "         0.6547044],\n",
              "        [0.110545 , 0.273567 , 0.08441  , ..., 0.188693 , 0.045941 ,\n",
              "         0.457372 ],\n",
              "        ...,\n",
              "        [0.035169 , 0.065403 , 0.078842 , ..., 0.3074762, 0.4530174,\n",
              "         0.476993 ],\n",
              "        [0.054276 , 0.238158 , 0.0809624, ..., 0.547126 , 0.5272744,\n",
              "         1.4028562],\n",
              "        [0.073194 , 0.140733 , 0.080545 , ..., 0.2473942, 0.1669178,\n",
              "         0.451701 ]])]"
            ]
          },
          "execution_count": 76,
          "metadata": {},
          "output_type": "execute_result"
        }
      ],
      "source": [
        "selecao(r)"
      ]
    },
    {
      "cell_type": "markdown",
      "metadata": {
        "id": "prBG_-G6mdlE"
      },
      "source": [
        "#Cruzamento"
      ]
    },
    {
      "cell_type": "markdown",
      "metadata": {
        "id": "ovbVfXg4ni-o"
      },
      "source": [
        "Cruzamento de n-points"
      ]
    },
    {
      "cell_type": "code",
      "execution_count": null,
      "metadata": {
        "id": "BQ8VOON4mcis"
      },
      "outputs": [],
      "source": [
        "#indeces com a posição do valores ausentes\n",
        "index_vas = a[1]"
      ]
    },
    {
      "cell_type": "code",
      "execution_count": null,
      "metadata": {
        "colab": {
          "base_uri": "https://localhost:8080/"
        },
        "id": "21NXvHUAb_Hh",
        "outputId": "163fdeb0-ca15-4cbd-887e-3f80cfee1558"
      },
      "outputs": [
        {
          "data": {
            "text/plain": [
              "[[255, 69],\n",
              " [383, 41],\n",
              " [96, 52],\n",
              " [54, 44],\n",
              " [14, 62],\n",
              " [303, 11],\n",
              " [118, 64],\n",
              " [188, 56],\n",
              " [318, 16],\n",
              " [194, 38],\n",
              " [49, 64],\n",
              " [243, 41],\n",
              " [466, 51],\n",
              " [413, 43],\n",
              " [297, 33],\n",
              " [336, 9],\n",
              " [316, 22],\n",
              " [24, 6],\n",
              " [509, 37],\n",
              " [99, 56],\n",
              " [406, 68],\n",
              " [511, 57],\n",
              " [114, 58],\n",
              " [310, 45],\n",
              " [437, 6],\n",
              " [48, 35],\n",
              " [282, 53],\n",
              " [213, 58],\n",
              " [298, 15],\n",
              " [434, 29],\n",
              " [83, 60],\n",
              " [65, 45],\n",
              " [475, 9],\n",
              " [492, 20],\n",
              " [86, 20],\n",
              " [285, 23],\n",
              " [411, 24],\n",
              " [193, 71],\n",
              " [76, 40],\n",
              " [128, 26],\n",
              " [75, 17],\n",
              " [119, 47],\n",
              " [204, 51],\n",
              " [58, 43],\n",
              " [292, 64],\n",
              " [131, 8],\n",
              " [55, 36],\n",
              " [148, 51],\n",
              " [274, 66],\n",
              " [409, 56],\n",
              " [225, 18],\n",
              " [359, 46],\n",
              " [133, 5],\n",
              " [235, 20],\n",
              " [222, 48],\n",
              " [352, 42],\n",
              " [389, 20],\n",
              " [111, 21],\n",
              " [473, 18],\n",
              " [271, 66],\n",
              " [400, 48],\n",
              " [383, 55],\n",
              " [232, 14],\n",
              " [69, 17],\n",
              " [427, 35],\n",
              " [120, 13],\n",
              " [134, 41],\n",
              " [472, 71],\n",
              " [332, 69],\n",
              " [356, 32],\n",
              " [81, 62],\n",
              " [378, 6],\n",
              " [356, 7],\n",
              " [473, 26],\n",
              " [42, 13],\n",
              " [129, 59],\n",
              " [339, 70],\n",
              " [51, 12],\n",
              " [274, 69],\n",
              " [246, 21],\n",
              " [472, 34],\n",
              " [445, 64],\n",
              " [437, 42],\n",
              " [395, 41],\n",
              " [515, 30],\n",
              " [489, 71],\n",
              " [109, 62],\n",
              " [384, 67],\n",
              " [353, 14],\n",
              " [310, 18],\n",
              " [382, 68],\n",
              " [412, 49],\n",
              " [311, 20],\n",
              " [6, 48],\n",
              " [123, 36],\n",
              " [332, 14],\n",
              " [384, 31],\n",
              " [44, 59],\n",
              " [1, 5],\n",
              " [56, 17],\n",
              " [102, 32],\n",
              " [500, 9],\n",
              " [420, 33],\n",
              " [315, 4],\n",
              " [199, 37],\n",
              " [50, 35],\n",
              " [302, 25],\n",
              " [425, 6],\n",
              " [142, 71],\n",
              " [529, 39],\n",
              " [86, 46],\n",
              " [303, 30],\n",
              " [135, 36],\n",
              " [433, 59],\n",
              " [395, 4],\n",
              " [217, 41],\n",
              " [472, 71],\n",
              " [508, 64],\n",
              " [418, 5],\n",
              " [242, 14],\n",
              " [247, 30],\n",
              " [246, 49],\n",
              " [244, 13],\n",
              " [336, 44],\n",
              " [250, 56],\n",
              " [527, 3],\n",
              " [404, 40],\n",
              " [273, 12],\n",
              " [87, 7],\n",
              " [215, 58],\n",
              " [503, 52],\n",
              " [376, 6],\n",
              " [301, 14],\n",
              " [260, 3],\n",
              " [439, 29],\n",
              " [371, 63],\n",
              " [99, 10],\n",
              " [243, 10],\n",
              " [491, 49],\n",
              " [321, 45],\n",
              " [41, 54],\n",
              " [281, 26],\n",
              " [261, 46],\n",
              " [335, 57],\n",
              " [439, 29],\n",
              " [137, 50],\n",
              " [105, 35],\n",
              " [133, 15],\n",
              " [246, 27],\n",
              " [485, 69],\n",
              " [102, 21],\n",
              " [408, 58],\n",
              " [514, 44],\n",
              " [372, 58],\n",
              " [458, 35],\n",
              " [63, 66],\n",
              " [206, 5],\n",
              " [498, 9],\n",
              " [125, 11],\n",
              " [267, 33],\n",
              " [352, 53],\n",
              " [207, 21],\n",
              " [128, 54],\n",
              " [424, 49],\n",
              " [104, 68],\n",
              " [475, 40],\n",
              " [441, 52],\n",
              " [437, 17],\n",
              " [33, 38],\n",
              " [249, 19],\n",
              " [137, 26],\n",
              " [251, 66],\n",
              " [271, 52],\n",
              " [348, 68],\n",
              " [119, 23],\n",
              " [403, 64],\n",
              " [462, 24],\n",
              " [17, 48],\n",
              " [353, 2],\n",
              " [165, 23],\n",
              " [475, 62],\n",
              " [374, 59],\n",
              " [347, 62],\n",
              " [488, 11],\n",
              " [488, 64],\n",
              " [472, 60],\n",
              " [397, 50],\n",
              " [485, 55],\n",
              " [337, 56],\n",
              " [201, 39],\n",
              " [519, 69],\n",
              " [196, 55],\n",
              " [364, 36],\n",
              " [380, 12],\n",
              " [4, 40],\n",
              " [131, 48],\n",
              " [88, 18],\n",
              " [92, 2],\n",
              " [219, 38],\n",
              " [471, 25],\n",
              " [132, 9],\n",
              " [76, 56],\n",
              " [385, 4],\n",
              " [388, 6],\n",
              " [3, 38],\n",
              " [145, 27],\n",
              " [416, 53],\n",
              " [294, 34],\n",
              " [267, 20],\n",
              " [40, 68],\n",
              " [267, 48],\n",
              " [263, 30],\n",
              " [468, 7],\n",
              " [33, 37],\n",
              " [417, 37],\n",
              " [291, 52],\n",
              " [520, 44],\n",
              " [269, 31],\n",
              " [508, 54],\n",
              " [340, 46],\n",
              " [176, 50],\n",
              " [48, 16],\n",
              " [41, 10],\n",
              " [389, 11],\n",
              " [418, 55],\n",
              " [229, 35],\n",
              " [275, 56],\n",
              " [95, 71],\n",
              " [214, 23],\n",
              " [258, 20],\n",
              " [438, 3],\n",
              " [365, 55],\n",
              " [326, 60],\n",
              " [109, 26],\n",
              " [377, 62],\n",
              " [346, 18],\n",
              " [476, 66],\n",
              " [243, 2],\n",
              " [408, 32],\n",
              " [392, 56],\n",
              " [232, 47],\n",
              " [36, 49],\n",
              " [21, 14],\n",
              " [328, 10],\n",
              " [372, 69],\n",
              " [6, 7],\n",
              " [201, 28],\n",
              " [358, 14],\n",
              " [243, 20],\n",
              " [85, 11],\n",
              " [334, 23],\n",
              " [70, 61],\n",
              " [103, 32],\n",
              " [178, 16],\n",
              " [56, 15],\n",
              " [460, 37],\n",
              " [90, 68],\n",
              " [377, 27],\n",
              " [298, 6],\n",
              " [139, 51],\n",
              " [381, 24],\n",
              " [315, 16],\n",
              " [265, 43],\n",
              " [32, 60],\n",
              " [204, 68],\n",
              " [441, 4],\n",
              " [15, 47],\n",
              " [348, 2],\n",
              " [116, 37],\n",
              " [250, 69],\n",
              " [103, 33],\n",
              " [221, 6],\n",
              " [36, 40],\n",
              " [78, 17],\n",
              " [116, 27],\n",
              " [38, 26],\n",
              " [143, 47],\n",
              " [418, 43],\n",
              " [480, 68],\n",
              " [148, 3],\n",
              " [487, 40],\n",
              " [30, 21],\n",
              " [155, 70],\n",
              " [471, 59],\n",
              " [406, 4],\n",
              " [46, 13],\n",
              " [325, 10],\n",
              " [256, 24],\n",
              " [108, 45],\n",
              " [394, 19],\n",
              " [13, 53],\n",
              " [78, 15],\n",
              " [155, 5],\n",
              " [355, 24],\n",
              " [393, 9],\n",
              " [208, 56],\n",
              " [391, 55],\n",
              " [364, 59],\n",
              " [46, 19],\n",
              " [167, 54],\n",
              " [46, 50],\n",
              " [192, 50],\n",
              " [74, 5],\n",
              " [149, 37],\n",
              " [280, 3],\n",
              " [114, 38],\n",
              " [456, 40],\n",
              " [172, 60],\n",
              " [442, 63],\n",
              " [371, 56],\n",
              " [268, 18],\n",
              " [222, 16],\n",
              " [458, 22],\n",
              " [101, 6],\n",
              " [238, 61],\n",
              " [474, 1],\n",
              " [292, 12],\n",
              " [203, 42],\n",
              " [183, 6],\n",
              " [173, 31],\n",
              " [423, 35],\n",
              " [125, 30],\n",
              " [243, 34],\n",
              " [177, 25],\n",
              " [276, 18],\n",
              " [59, 70],\n",
              " [351, 63],\n",
              " [38, 42],\n",
              " [181, 40],\n",
              " [462, 69],\n",
              " [285, 64],\n",
              " [318, 9],\n",
              " [430, 35],\n",
              " [102, 67],\n",
              " [251, 33],\n",
              " [505, 69],\n",
              " [410, 59],\n",
              " [155, 51],\n",
              " [519, 17],\n",
              " [488, 55],\n",
              " [206, 69],\n",
              " [202, 29],\n",
              " [315, 47],\n",
              " [295, 61],\n",
              " [178, 32],\n",
              " [375, 24],\n",
              " [523, 7],\n",
              " [85, 61],\n",
              " [126, 61],\n",
              " [39, 18],\n",
              " [244, 7],\n",
              " [222, 34],\n",
              " [485, 67],\n",
              " [102, 46],\n",
              " [348, 25],\n",
              " [114, 13],\n",
              " [126, 30],\n",
              " [15, 45],\n",
              " [280, 67],\n",
              " [11, 27],\n",
              " [367, 60],\n",
              " [315, 4],\n",
              " [512, 12],\n",
              " [153, 63],\n",
              " [196, 30],\n",
              " [301, 32],\n",
              " [64, 36],\n",
              " [476, 58],\n",
              " [201, 61],\n",
              " [86, 71],\n",
              " [4, 1],\n",
              " [527, 67],\n",
              " [439, 70],\n",
              " [390, 30],\n",
              " [49, 54],\n",
              " [253, 67],\n",
              " [4, 6],\n",
              " [404, 23],\n",
              " [176, 40],\n",
              " [21, 10],\n",
              " [135, 65],\n",
              " [287, 22],\n",
              " [396, 7],\n",
              " [261, 18],\n",
              " [27, 37],\n",
              " [475, 9],\n",
              " [510, 71],\n",
              " [161, 52],\n",
              " [15, 42],\n",
              " [481, 66],\n",
              " [115, 41],\n",
              " [508, 18],\n",
              " [409, 16],\n",
              " [240, 67],\n",
              " [494, 23],\n",
              " [525, 35],\n",
              " [365, 50],\n",
              " [352, 36],\n",
              " [21, 4],\n",
              " [353, 7],\n",
              " [344, 37],\n",
              " [411, 58],\n",
              " [216, 67],\n",
              " [479, 69],\n",
              " [284, 67],\n",
              " [291, 57],\n",
              " [59, 41],\n",
              " [279, 58],\n",
              " [97, 8],\n",
              " [286, 41],\n",
              " [383, 68],\n",
              " [186, 11],\n",
              " [85, 13],\n",
              " [191, 47],\n",
              " [456, 59],\n",
              " [194, 56],\n",
              " [455, 46],\n",
              " [88, 45],\n",
              " [363, 34],\n",
              " [227, 11],\n",
              " [465, 32],\n",
              " [14, 59],\n",
              " [362, 65],\n",
              " [516, 28],\n",
              " [371, 38],\n",
              " [408, 20],\n",
              " [26, 15],\n",
              " [151, 11],\n",
              " [95, 11],\n",
              " [36, 4],\n",
              " [66, 44],\n",
              " [12, 25],\n",
              " [476, 11],\n",
              " [137, 16],\n",
              " [314, 6],\n",
              " [238, 67],\n",
              " [494, 19],\n",
              " [373, 14],\n",
              " [88, 25],\n",
              " [216, 24],\n",
              " [278, 66],\n",
              " [343, 70],\n",
              " [90, 5],\n",
              " [305, 37],\n",
              " [480, 46],\n",
              " [73, 31],\n",
              " [354, 30],\n",
              " [289, 63],\n",
              " [244, 20],\n",
              " [50, 43],\n",
              " [101, 22],\n",
              " [242, 68],\n",
              " [325, 33],\n",
              " [285, 66],\n",
              " [405, 70],\n",
              " [446, 71],\n",
              " [238, 68],\n",
              " [517, 57],\n",
              " [196, 25],\n",
              " [205, 38],\n",
              " [397, 48],\n",
              " [153, 62],\n",
              " [503, 22],\n",
              " [220, 14],\n",
              " [222, 19],\n",
              " [371, 6],\n",
              " [251, 55],\n",
              " [105, 31],\n",
              " [89, 52],\n",
              " [490, 51],\n",
              " [483, 44],\n",
              " [245, 29],\n",
              " [194, 16],\n",
              " [291, 14],\n",
              " [462, 57],\n",
              " [182, 33],\n",
              " [101, 30],\n",
              " [139, 71],\n",
              " [395, 42],\n",
              " [493, 65],\n",
              " [184, 54],\n",
              " [238, 40],\n",
              " [175, 23],\n",
              " [424, 5],\n",
              " [261, 58],\n",
              " [336, 21],\n",
              " [371, 22],\n",
              " [248, 54],\n",
              " [309, 13],\n",
              " [344, 71],\n",
              " [209, 64],\n",
              " [417, 11],\n",
              " [317, 59],\n",
              " [204, 13],\n",
              " [528, 70],\n",
              " [414, 61],\n",
              " [47, 15],\n",
              " [187, 69],\n",
              " [41, 69],\n",
              " [501, 13],\n",
              " [42, 54],\n",
              " [88, 34],\n",
              " [115, 50],\n",
              " [423, 48],\n",
              " [341, 11],\n",
              " [106, 53],\n",
              " [351, 53],\n",
              " [524, 46],\n",
              " [298, 61],\n",
              " [167, 8],\n",
              " [343, 7],\n",
              " [296, 40],\n",
              " [477, 8],\n",
              " [441, 19],\n",
              " [211, 49],\n",
              " [132, 31],\n",
              " [465, 53],\n",
              " [297, 59],\n",
              " [218, 59],\n",
              " [185, 28],\n",
              " [233, 26],\n",
              " [311, 17],\n",
              " [230, 32],\n",
              " [72, 26],\n",
              " [402, 63],\n",
              " [217, 63],\n",
              " [326, 13],\n",
              " [347, 18],\n",
              " [169, 57],\n",
              " [168, 25],\n",
              " [441, 68],\n",
              " [350, 44],\n",
              " [463, 6],\n",
              " [237, 65],\n",
              " [140, 68],\n",
              " [402, 5],\n",
              " [291, 57],\n",
              " [112, 63],\n",
              " [488, 9],\n",
              " [36, 23],\n",
              " [290, 29],\n",
              " [263, 58],\n",
              " [24, 4],\n",
              " [30, 10],\n",
              " [280, 63],\n",
              " [523, 57],\n",
              " [81, 18],\n",
              " [251, 29],\n",
              " [129, 5],\n",
              " [276, 30],\n",
              " [80, 41],\n",
              " [379, 50],\n",
              " [375, 36],\n",
              " [259, 5],\n",
              " [277, 71],\n",
              " [271, 64],\n",
              " [305, 16],\n",
              " [179, 69],\n",
              " [351, 3],\n",
              " [19, 19],\n",
              " [519, 26],\n",
              " [454, 71],\n",
              " [71, 47],\n",
              " [458, 33],\n",
              " [523, 56],\n",
              " [15, 54],\n",
              " [242, 41],\n",
              " [328, 49],\n",
              " [150, 26],\n",
              " [350, 70],\n",
              " [463, 22],\n",
              " [172, 20],\n",
              " [96, 37],\n",
              " [289, 29],\n",
              " [502, 40],\n",
              " [140, 27],\n",
              " [190, 47],\n",
              " [60, 3],\n",
              " [87, 10],\n",
              " [524, 32],\n",
              " [445, 11],\n",
              " [385, 12],\n",
              " [264, 18],\n",
              " [167, 19],\n",
              " [392, 57],\n",
              " [529, 67],\n",
              " [133, 43],\n",
              " [229, 69],\n",
              " [73, 20],\n",
              " [502, 10],\n",
              " [262, 40],\n",
              " [142, 48],\n",
              " [114, 66],\n",
              " [17, 50],\n",
              " [210, 40],\n",
              " [274, 21],\n",
              " [231, 29],\n",
              " [379, 58],\n",
              " [78, 58],\n",
              " [286, 38],\n",
              " [420, 58],\n",
              " [233, 71],\n",
              " [235, 19],\n",
              " [293, 7],\n",
              " [216, 70],\n",
              " [182, 1],\n",
              " [111, 68],\n",
              " [409, 43],\n",
              " [385, 60],\n",
              " [318, 56],\n",
              " [225, 61],\n",
              " [351, 16],\n",
              " [203, 38],\n",
              " [507, 38],\n",
              " [333, 66],\n",
              " [244, 58],\n",
              " [159, 5],\n",
              " [389, 61],\n",
              " [157, 55],\n",
              " [524, 67],\n",
              " [48, 53],\n",
              " [78, 52],\n",
              " [247, 13],\n",
              " [109, 15],\n",
              " [23, 8],\n",
              " [394, 38],\n",
              " [155, 9],\n",
              " [46, 44],\n",
              " [320, 19],\n",
              " [427, 69],\n",
              " [289, 48],\n",
              " [225, 13],\n",
              " [227, 11],\n",
              " [420, 7],\n",
              " [67, 58],\n",
              " [226, 47],\n",
              " [437, 51],\n",
              " [57, 2],\n",
              " [81, 44],\n",
              " [26, 53],\n",
              " [325, 4],\n",
              " [47, 8],\n",
              " [63, 48],\n",
              " [454, 20],\n",
              " [105, 67],\n",
              " [252, 25],\n",
              " [161, 10],\n",
              " [85, 34],\n",
              " [49, 65],\n",
              " [29, 21],\n",
              " [494, 46],\n",
              " [477, 60],\n",
              " [114, 17],\n",
              " [517, 21],\n",
              " [194, 70],\n",
              " [404, 13],\n",
              " [523, 69],\n",
              " [185, 15],\n",
              " [458, 5],\n",
              " [482, 12],\n",
              " [165, 3],\n",
              " [404, 61],\n",
              " [337, 32],\n",
              " [37, 26],\n",
              " [221, 5],\n",
              " [406, 55],\n",
              " [107, 22],\n",
              " [160, 33],\n",
              " [57, 8],\n",
              " [434, 48],\n",
              " [344, 39],\n",
              " [126, 2],\n",
              " [132, 69],\n",
              " [335, 58],\n",
              " [324, 47],\n",
              " [396, 54],\n",
              " [350, 49],\n",
              " [281, 6],\n",
              " [504, 35],\n",
              " [450, 62],\n",
              " [189, 56],\n",
              " [62, 39],\n",
              " [326, 45],\n",
              " [3, 40],\n",
              " [186, 52],\n",
              " [355, 61],\n",
              " [343, 50],\n",
              " [101, 34],\n",
              " [417, 46],\n",
              " [470, 8],\n",
              " [212, 51],\n",
              " [481, 20],\n",
              " [312, 41],\n",
              " [219, 62],\n",
              " [94, 27],\n",
              " [304, 44],\n",
              " [39, 11],\n",
              " [500, 11],\n",
              " [493, 31],\n",
              " [253, 56],\n",
              " [46, 44],\n",
              " [139, 70],\n",
              " [328, 11],\n",
              " [140, 12],\n",
              " [209, 19],\n",
              " [36, 52],\n",
              " [226, 64],\n",
              " [52, 29],\n",
              " [239, 68],\n",
              " [473, 47],\n",
              " [272, 27],\n",
              " [183, 17],\n",
              " [464, 36],\n",
              " [113, 54],\n",
              " [471, 39],\n",
              " [325, 47],\n",
              " [482, 2],\n",
              " [241, 25],\n",
              " [14, 12],\n",
              " [194, 49],\n",
              " [494, 46],\n",
              " [108, 32],\n",
              " [34, 27],\n",
              " [429, 28],\n",
              " [448, 7],\n",
              " [62, 14],\n",
              " [169, 23],\n",
              " [276, 26],\n",
              " [76, 57],\n",
              " [397, 22],\n",
              " [86, 23],\n",
              " [198, 35],\n",
              " [257, 3],\n",
              " [464, 51],\n",
              " [205, 21],\n",
              " [223, 48],\n",
              " [236, 37],\n",
              " [449, 9],\n",
              " [463, 50],\n",
              " [443, 61],\n",
              " [299, 27],\n",
              " [13, 45],\n",
              " [214, 29],\n",
              " [334, 4],\n",
              " [327, 30],\n",
              " [217, 37],\n",
              " [71, 58],\n",
              " [528, 6],\n",
              " [270, 14],\n",
              " [200, 38],\n",
              " [352, 69],\n",
              " [234, 11],\n",
              " [357, 31],\n",
              " [403, 34],\n",
              " [350, 44],\n",
              " [495, 65],\n",
              " [281, 25],\n",
              " [455, 17],\n",
              " [301, 42],\n",
              " [254, 43],\n",
              " [224, 40],\n",
              " [206, 20],\n",
              " [324, 33],\n",
              " [55, 43],\n",
              " [204, 48],\n",
              " [354, 32],\n",
              " [455, 29],\n",
              " [103, 46],\n",
              " [27, 59],\n",
              " [501, 57],\n",
              " [7, 24],\n",
              " [197, 57],\n",
              " [376, 38],\n",
              " [323, 1],\n",
              " [307, 67],\n",
              " [20, 5],\n",
              " [318, 32],\n",
              " [475, 5],\n",
              " [350, 28],\n",
              " [453, 36],\n",
              " [293, 52],\n",
              " [507, 17],\n",
              " [472, 35],\n",
              " [190, 44],\n",
              " [132, 57],\n",
              " [466, 19],\n",
              " [509, 35],\n",
              " [497, 21],\n",
              " [114, 38],\n",
              " [81, 47],\n",
              " [279, 39],\n",
              " [257, 61],\n",
              " [377, 55],\n",
              " [143, 34],\n",
              " [438, 29],\n",
              " [267, 6],\n",
              " [67, 18],\n",
              " [407, 12],\n",
              " [525, 8],\n",
              " [448, 39],\n",
              " [361, 4],\n",
              " [356, 16],\n",
              " [98, 50],\n",
              " [232, 39],\n",
              " [261, 66],\n",
              " [102, 25],\n",
              " [392, 4],\n",
              " [210, 53],\n",
              " [176, 8],\n",
              " [300, 3],\n",
              " [514, 17],\n",
              " [209, 56],\n",
              " [324, 37],\n",
              " [176, 63],\n",
              " [263, 60],\n",
              " [273, 4],\n",
              " [23, 63],\n",
              " [170, 32],\n",
              " [503, 24],\n",
              " [198, 45],\n",
              " [371, 47],\n",
              " [18, 37],\n",
              " [180, 12],\n",
              " [445, 43],\n",
              " [321, 63],\n",
              " [37, 8],\n",
              " [316, 51],\n",
              " [253, 34],\n",
              " [130, 66],\n",
              " [130, 21],\n",
              " [288, 46],\n",
              " [236, 12],\n",
              " [356, 61],\n",
              " [67, 51],\n",
              " [261, 58],\n",
              " [207, 2],\n",
              " [342, 53],\n",
              " [126, 11],\n",
              " [407, 62],\n",
              " [324, 9],\n",
              " [224, 68],\n",
              " [192, 29],\n",
              " [105, 58],\n",
              " [435, 68],\n",
              " [149, 39],\n",
              " [260, 2],\n",
              " [45, 51],\n",
              " [78, 32],\n",
              " [528, 20],\n",
              " [258, 47],\n",
              " [187, 19],\n",
              " [397, 70],\n",
              " [396, 21],\n",
              " [384, 63],\n",
              " [128, 22],\n",
              " [55, 29],\n",
              " [283, 13],\n",
              " [367, 27],\n",
              " [503, 62],\n",
              " [514, 4],\n",
              " [129, 45],\n",
              " [41, 53],\n",
              " [373, 63],\n",
              " [132, 55],\n",
              " [304, 62],\n",
              " [140, 62],\n",
              " [190, 13],\n",
              " [422, 37],\n",
              " [357, 62],\n",
              " [248, 26],\n",
              " [188, 43],\n",
              " [187, 7],\n",
              " [515, 71],\n",
              " [274, 15],\n",
              " [32, 30],\n",
              " [362, 70],\n",
              " [170, 67],\n",
              " [95, 21],\n",
              " [219, 13],\n",
              " [181, 51],\n",
              " [251, 43],\n",
              " [529, 59],\n",
              " [385, 61],\n",
              " [66, 35],\n",
              " [265, 60],\n",
              " [129, 26],\n",
              " [95, 61],\n",
              " [401, 56],\n",
              " [69, 27],\n",
              " [134, 71],\n",
              " [103, 6],\n",
              " [345, 63],\n",
              " [313, 65],\n",
              " [369, 50],\n",
              " [229, 51],\n",
              " [431, 68],\n",
              " [519, 60],\n",
              " [410, 59],\n",
              " [339, 16],\n",
              " [270, 25],\n",
              " [33, 49],\n",
              " [483, 19],\n",
              " [7, 14],\n",
              " [301, 61],\n",
              " [220, 32],\n",
              " [412, 57],\n",
              " [440, 35],\n",
              " [228, 4],\n",
              " [135, 39],\n",
              " [411, 12],\n",
              " [388, 17],\n",
              " [10, 58],\n",
              " [523, 57],\n",
              " [510, 4],\n",
              " [116, 4],\n",
              " [447, 34],\n",
              " [480, 33],\n",
              " [212, 4],\n",
              " [454, 3],\n",
              " [10, 23],\n",
              " [35, 29],\n",
              " [373, 10],\n",
              " [331, 46],\n",
              " [4, 6],\n",
              " [224, 42],\n",
              " [1, 19],\n",
              " [377, 12],\n",
              " [494, 44],\n",
              " [355, 35],\n",
              " [22, 58],\n",
              " [455, 16],\n",
              " [292, 69],\n",
              " [254, 19],\n",
              " [526, 7],\n",
              " [215, 37],\n",
              " [156, 41],\n",
              " [89, 70],\n",
              " [208, 18],\n",
              " [443, 12],\n",
              " [332, 60],\n",
              " [418, 31],\n",
              " [334, 69],\n",
              " [243, 19],\n",
              " [450, 29],\n",
              " [100, 64],\n",
              " [146, 59],\n",
              " [115, 1],\n",
              " [363, 40],\n",
              " [476, 21],\n",
              " [276, 58],\n",
              " [277, 70],\n",
              " [330, 8],\n",
              " [523, 71],\n",
              " [133, 14],\n",
              " [55, 60],\n",
              " [388, 9],\n",
              " [120, 24],\n",
              " [202, 20],\n",
              " [102, 69],\n",
              " [384, 65],\n",
              " [359, 65],\n",
              " [216, 69],\n",
              " [461, 43],\n",
              " [291, 52],\n",
              " [98, 59],\n",
              " [113, 15],\n",
              " [153, 12],\n",
              " [341, 21],\n",
              " [69, 37],\n",
              " [327, 1],\n",
              " [330, 14],\n",
              " [495, 40],\n",
              " [292, 62],\n",
              " [470, 43],\n",
              " [477, 11],\n",
              " [508, 24],\n",
              " [283, 10],\n",
              " [129, 15],\n",
              " [194, 27],\n",
              " [47, 13],\n",
              " [64, 2],\n",
              " [315, 56],\n",
              " [53, 69],\n",
              " [340, 39],\n",
              " [114, 62],\n",
              " [334, 38],\n",
              " [131, 52],\n",
              " [497, 60],\n",
              " [369, 14],\n",
              " [296, 65],\n",
              " [298, 47],\n",
              " [65, 71],\n",
              " [471, 26],\n",
              " [299, 51],\n",
              " [14, 54],\n",
              " [260, 21],\n",
              " [65, 23],\n",
              " [255, 13],\n",
              " [54, 33],\n",
              " [38, 19],\n",
              " ...]"
            ]
          },
          "execution_count": 78,
          "metadata": {},
          "output_type": "execute_result"
        }
      ],
      "source": [
        "index_vas"
      ]
    },
    {
      "cell_type": "code",
      "execution_count": null,
      "metadata": {
        "id": "olsDwQClo0rU"
      },
      "outputs": [],
      "source": [
        "def crossover(list_index_vas,n_points, new_population, tam_population):\n",
        "  quantidade_sem_mutacoes = tam_population - int(tam_population*0.8)\n",
        "  nova_populacao_com_crossover = []\n",
        "  #adiciona os melhores, com exceção do elitista, na próxima geração\n",
        "  #o elitista já é passado diretamente para a próxima geração avaliada\n",
        "  for i in range(1,quantidade_sem_mutacoes):\n",
        "    melhor = new_population.pop(i)\n",
        "    #melhores = new_population[1]\n",
        "    #print('melhor'+str(i)+': '+type(melhor[1]))\n",
        "    nova_populacao_com_crossover.append(melhor[1])\n",
        "  while(len(nova_populacao_com_crossover)<int(tam_population)-1):\n",
        "    sorteio1 = random.choice(range(len(new_population)))\n",
        "    #escolha dos pais que terão materiais trocados\n",
        "    #print(sorteio1)\n",
        "    sorteio2 = random.choice(range(len(new_population)))\n",
        "    #print(sorteio2)\n",
        "    #print(len(nova_populacao_com_crossover))\n",
        "    while(sorteio1 == sorteio2):\n",
        "      sorteio2 = random.choice(range(len(new_population)))\n",
        "    pai1 = new_population[sorteio1]\n",
        "    pai2 = new_population[sorteio2]\n",
        "\n",
        "    df_pai1 = pd.DataFrame(pai1[1])\n",
        "    df_pai2 = pd.DataFrame(pai2[1])\n",
        "  \n",
        "    genes_all_pai1 = []\n",
        "\n",
        "    genes_all_pai2 = []\n",
        "\n",
        "    #recuperando os genes de cada pai\n",
        "    for i in list_index_vas:\n",
        "      genes_all_pai1.append(df_pai1.iloc[i[0],i[1]])\n",
        "      genes_all_pai2.append(df_pai2.iloc[i[0],i[1]])\n",
        "    #dividindo os genes de acordo com o n_points\n",
        "    divide_genes_pai_1 = np.array_split(genes_all_pai1,n_points)\n",
        "    divide_genes_pai_2 = np.array_split(genes_all_pai2,n_points)\n",
        "\n",
        "    genes_0_pai1 = divide_genes_pai_1[0]\n",
        "    genes_1_pai1 = divide_genes_pai_1[1]\n",
        "\n",
        "    genes_0_pai2 = divide_genes_pai_2[0]\n",
        "    genes_1_pai2 = divide_genes_pai_2[1]\n",
        "\n",
        "    t1 = len(genes_1_pai1)\n",
        "    t2 = len(genes_1_pai2)\n",
        "\n",
        "    divide_list_index = np.array_split(list_index_vas,n_points)\n",
        "    primeira_parte = divide_list_index[0]\n",
        "    segunda_parte = divide_list_index[1]\n",
        "\n",
        "    genes_parte_2_pai1 = genes_1_pai1.tolist()\n",
        "    genes_parte_2_pai2 = genes_1_pai2.tolist()\n",
        "\n",
        "    #Trocando genes dos pais\n",
        "    index = 0\n",
        "    for i in segunda_parte:\n",
        "      df_pai1.iloc[i[0].astype(int), i[1].astype(int)] = genes_1_pai2[index]\n",
        "      df_pai2.iloc[i[0].astype(int), i[1].astype(int)] = genes_1_pai1[index]\n",
        "      index = index +1\n",
        "    filho1 = df_pai1\n",
        "    nova_populacao_com_crossover.append(filho1.to_numpy())\n",
        "\n",
        "    if(len(nova_populacao_com_crossover)<tam_population):\n",
        "      filho2 = df_pai2\n",
        "      nova_populacao_com_crossover.append(filho2.to_numpy())\n",
        "  #filho1, filho2,pai1[1],pai1[2]\n",
        "  print('Tamanho da nova população gerada por meio do cruzamento:',len(nova_populacao_com_crossover))\n",
        "  return nova_populacao_com_crossover"
      ]
    },
    {
      "cell_type": "code",
      "execution_count": null,
      "metadata": {
        "colab": {
          "base_uri": "https://localhost:8080/"
        },
        "id": "SrTV9X19pUOO",
        "outputId": "9b52d3ab-aba9-4680-fbc8-aa407a09fd2a"
      },
      "outputs": [
        {
          "name": "stdout",
          "output_type": "stream",
          "text": [
            "Tamanho da nova população gerada por meio do cruzamento: 9\n"
          ]
        },
        {
          "data": {
            "text/plain": [
              "[array([[0.034741 , 0.089665 , 0.091225 , ..., 0.245457 , 0.105065 ,\n",
              "         0.405399 ],\n",
              "        [0.081374 , 0.272747 , 0.085733 , ..., 0.343547 , 0.276366 ,\n",
              "         0.6547044],\n",
              "        [0.110545 , 0.273567 , 0.08441  , ..., 0.188693 , 0.045941 ,\n",
              "         0.457372 ],\n",
              "        ...,\n",
              "        [0.035169 , 0.065403 , 0.078842 , ..., 0.3074762, 0.4530174,\n",
              "         0.476993 ],\n",
              "        [0.054276 , 0.238158 , 0.0809624, ..., 0.547126 , 0.5272744,\n",
              "         1.4028562],\n",
              "        [0.073194 , 0.140733 , 0.080545 , ..., 0.2473942, 0.1669178,\n",
              "         0.451701 ]]),\n",
              " array([[0.034741  , 0.089665  , 0.091225  , ..., 0.245457  , 0.105065  ,\n",
              "         0.405399  ],\n",
              "        [0.081374  , 0.272747  , 0.085733  , ..., 0.343547  , 0.276366  ,\n",
              "         0.55982467],\n",
              "        [0.110545  , 0.273567  , 0.08441   , ..., 0.188693  , 0.045941  ,\n",
              "         0.457372  ],\n",
              "        ...,\n",
              "        [0.035169  , 0.065403  , 0.07922533, ..., 0.421802  , 0.33011633,\n",
              "         0.476993  ],\n",
              "        [0.054276  , 0.238158  , 0.08559945, ..., 0.547126  , 0.36700452,\n",
              "         1.21660733],\n",
              "        [0.073194  , 0.140733  , 0.080545  , ..., 0.224925  , 0.09307067,\n",
              "         0.451701  ]]),\n",
              " array([[0.034741 , 0.089665 , 0.091225 , ..., 0.245457 , 0.105065 ,\n",
              "         0.405399 ],\n",
              "        [0.081374 , 0.272747 , 0.085733 , ..., 0.343547 , 0.276366 ,\n",
              "         0.803608 ],\n",
              "        [0.110545 , 0.273567 , 0.08441  , ..., 0.188693 , 0.045941 ,\n",
              "         0.457372 ],\n",
              "        ...,\n",
              "        [0.035169 , 0.065403 , 0.083688 , ..., 0.36749  , 0.247981 ,\n",
              "         0.476993 ],\n",
              "        [0.054276 , 0.238158 , 0.0879352, ..., 0.547126 , 0.496517 ,\n",
              "         0.803608 ],\n",
              "        [0.073194 , 0.140733 , 0.080545 , ..., 0.3061155, 0.247981 ,\n",
              "         0.451701 ]]),\n",
              " array([[0.034741 , 0.089665 , 0.091225 , ..., 0.245457 , 0.105065 ,\n",
              "         0.405399 ],\n",
              "        [0.081374 , 0.272747 , 0.085733 , ..., 0.343547 , 0.276366 ,\n",
              "         1.0862518],\n",
              "        [0.110545 , 0.273567 , 0.08441  , ..., 0.188693 , 0.045941 ,\n",
              "         0.457372 ],\n",
              "        ...,\n",
              "        [0.035169 , 0.065403 , 0.0805485, ..., 0.       , 0.4038391,\n",
              "         0.476993 ],\n",
              "        [0.054276 , 0.238158 , 0.075452 , ..., 0.547126 , 0.       ,\n",
              "         1.2811777],\n",
              "        [0.073194 , 0.140733 , 0.080545 , ..., 0.2825329, 0.1586649,\n",
              "         0.451701 ]]),\n",
              " array([[0.034741  , 0.089665  , 0.091225  , ..., 0.245457  , 0.105065  ,\n",
              "         0.405399  ],\n",
              "        [0.081374  , 0.272747  , 0.085733  , ..., 0.343547  , 0.276366  ,\n",
              "         0.55982467],\n",
              "        [0.110545  , 0.273567  , 0.08441   , ..., 0.188693  , 0.045941  ,\n",
              "         0.457372  ],\n",
              "        ...,\n",
              "        [0.035169  , 0.065403  , 0.07922533, ..., 0.421802  , 0.33011633,\n",
              "         0.476993  ],\n",
              "        [0.054276  , 0.238158  , 0.08559945, ..., 0.547126  , 0.36700452,\n",
              "         1.21660733],\n",
              "        [0.073194  , 0.140733  , 0.080545  , ..., 0.224925  , 0.09307067,\n",
              "         0.451701  ]]),\n",
              " array([[0.034741 , 0.089665 , 0.091225 , ..., 0.245457 , 0.105065 ,\n",
              "         0.405399 ],\n",
              "        [0.081374 , 0.272747 , 0.085733 , ..., 0.343547 , 0.276366 ,\n",
              "         0.803608 ],\n",
              "        [0.110545 , 0.273567 , 0.08441  , ..., 0.188693 , 0.045941 ,\n",
              "         0.457372 ],\n",
              "        ...,\n",
              "        [0.035169 , 0.065403 , 0.083688 , ..., 0.36749  , 0.247981 ,\n",
              "         0.476993 ],\n",
              "        [0.054276 , 0.238158 , 0.0879352, ..., 0.547126 , 0.496517 ,\n",
              "         0.803608 ],\n",
              "        [0.073194 , 0.140733 , 0.080545 , ..., 0.3061155, 0.247981 ,\n",
              "         0.451701 ]]),\n",
              " array([[0.034741  , 0.089665  , 0.091225  , ..., 0.245457  , 0.105065  ,\n",
              "         0.405399  ],\n",
              "        [0.081374  , 0.272747  , 0.085733  , ..., 0.343547  , 0.276366  ,\n",
              "         0.94677552],\n",
              "        [0.110545  , 0.273567  , 0.08441   , ..., 0.188693  , 0.045941  ,\n",
              "         0.457372  ],\n",
              "        ...,\n",
              "        [0.035169  , 0.065403  , 0.08559945, ..., 0.3061155 , 0.36700452,\n",
              "         0.476993  ],\n",
              "        [0.054276  , 0.238158  , 0.083688  , ..., 0.547126  , 0.247981  ,\n",
              "         0.94677552],\n",
              "        [0.073194  , 0.140733  , 0.080545  , ..., 0.421802  , 0.36700452,\n",
              "         0.451701  ]]),\n",
              " array([[0.034741  , 0.089665  , 0.091225  , ..., 0.245457  , 0.105065  ,\n",
              "         0.405399  ],\n",
              "        [0.081374  , 0.272747  , 0.085733  , ..., 0.343547  , 0.276366  ,\n",
              "         0.55982467],\n",
              "        [0.110545  , 0.273567  , 0.08441   , ..., 0.188693  , 0.045941  ,\n",
              "         0.457372  ],\n",
              "        ...,\n",
              "        [0.035169  , 0.065403  , 0.07922533, ..., 0.421802  , 0.33011633,\n",
              "         0.476993  ],\n",
              "        [0.054276  , 0.238158  , 0.08559945, ..., 0.547126  , 0.36700452,\n",
              "         1.21660733],\n",
              "        [0.073194  , 0.140733  , 0.080545  , ..., 0.224925  , 0.09307067,\n",
              "         0.451701  ]]),\n",
              " array([[0.034741  , 0.089665  , 0.091225  , ..., 0.245457  , 0.105065  ,\n",
              "         0.405399  ],\n",
              "        [0.081374  , 0.272747  , 0.085733  , ..., 0.343547  , 0.276366  ,\n",
              "         0.        ],\n",
              "        [0.110545  , 0.273567  , 0.08441   , ..., 0.188693  , 0.045941  ,\n",
              "         0.457372  ],\n",
              "        ...,\n",
              "        [0.035169  , 0.065403  , 0.075452  , ..., 0.3434    , 0.        ,\n",
              "         0.476993  ],\n",
              "        [0.054276  , 0.238158  , 0.080122  , ..., 0.547126  , 0.71954233,\n",
              "         0.        ],\n",
              "        [0.073194  , 0.140733  , 0.080545  , ..., 0.        , 0.        ,\n",
              "         0.451701  ]])]"
            ]
          },
          "execution_count": 80,
          "metadata": {},
          "output_type": "execute_result"
        }
      ],
      "source": [
        "nova_populacao_recombinada = crossover(index_vas,2,r,10)\n",
        "#print('tam_pop'+str(len(nova_populacao_recombinada)))\n",
        "nova_populacao_recombinada"
      ]
    },
    {
      "cell_type": "markdown",
      "metadata": {
        "id": "T4EuGQVvnR2y"
      },
      "source": [
        ""
      ]
    },
    {
      "cell_type": "markdown",
      "metadata": {
        "id": "0OD_YHb7WRYK"
      },
      "source": [
        "# Mutação"
      ]
    },
    {
      "cell_type": "code",
      "execution_count": null,
      "metadata": {
        "id": "TMvEp8kaWNpy"
      },
      "outputs": [],
      "source": [
        "def mutacao(dX_amputed,ind, list_missing_values):\n",
        "  import random\n",
        "  #de numpy para pandas format\n",
        "  ind = pd.DataFrame(ind)\n",
        "  #serão selecionados x% de individuos da população e são trocadas todas as solucões\n",
        "  #candidatas já imputadas por uma nova solução da pool de soluções\n",
        "  #amount_inds_mutation = int(rate_mutation *  len(inds_pop))\n",
        "  for i in list_missing_values:\n",
        "    #criando um pool solutions de acordo com a o valor de x da lista de index\n",
        "    lista_do_indice_atual = dX_amputed.iloc[:,i[1]]\n",
        "    #removendo o indices NaN para criar a pool solutions só com soluções candatas não-nulas\n",
        "    pool_solutions = [x for x in lista_do_indice_atual if pd.isnull(x) == False]\n",
        "    #substituindo o gene do indivíduo por um dos genes da pool solutions\n",
        "    #print('index: ', i[0],',', i[1])\n",
        "    #print('antes: ',ind.iloc[i[0],i[1]])\n",
        "    ind.iloc[i[0],i[1]] = random.choice(pool_solutions)\n",
        "    #print('depois: ',ind.iloc[i[0],i[1]])\n",
        "  return ind.to_numpy()"
      ]
    },
    {
      "cell_type": "code",
      "execution_count": null,
      "metadata": {
        "id": "hcWIluclhe8l"
      },
      "outputs": [],
      "source": [
        "#ind = mutacao(df_amp)"
      ]
    },
    {
      "cell_type": "code",
      "execution_count": null,
      "metadata": {
        "id": "aZhxBzJ6yOjY"
      },
      "outputs": [],
      "source": [
        "def mutations(dX_amputed,population, rate_mutation,list_missing_values):\n",
        "  populacao_cruzada = population.copy()\n",
        "  amount_inds_mutation = int(rate_mutation *  len(populacao_cruzada))\n",
        "  i = 0\n",
        "  while(i < amount_inds_mutation):\n",
        "    #o sorteado não pode ser o elitistista\n",
        "    sorteado = random.choice(range(1,len(population)))\n",
        "    ind_escolhido_pra_mutacao = populacao_cruzada.pop(sorteado)\n",
        "    ind_mutado = mutacao(dX_amputed, ind_escolhido_pra_mutacao,list_missing_values)\n",
        "    populacao_cruzada.append(ind_mutado)   \n",
        "    i=i+1\n",
        "  return populacao_cruzada"
      ]
    },
    {
      "cell_type": "markdown",
      "metadata": {
        "id": "C054OgBV14SY"
      },
      "source": [
        "# Algoritmo Genético"
      ]
    },
    {
      "cell_type": "markdown",
      "metadata": {
        "id": "ZrkPY0FB0dFk"
      },
      "source": [
        "\n",
        "\n",
        "1.   elitisimo: 1\n",
        "2.   gerações: 6\n",
        "3.   geracoes_sizes{6,12,18,24,30}\n",
        "4.   cruzamento: n-points\n",
        "5.   cruzamento: torneio\n",
        "\n"
      ]
    },
    {
      "cell_type": "code",
      "execution_count": null,
      "metadata": {
        "id": "WXpNshUS0hoH"
      },
      "outputs": [],
      "source": [
        "def nova_populacao(df_amp,individuo_elitista, pop_atual, tam_population,n_points, list_index_vas=index_vas):\n",
        "  formacao_nova_populacao = []\n",
        "  #formacao_nova_populacao.append(individuo_elitista)\n",
        "  while(len(formacao_nova_populacao)<= tam_population):\n",
        "    formacao_nova_populacao.append(selecao(pop_atual))\n",
        "  #pega a população selecionada para fazer a recombinação\n",
        "  nova_populacao_combinada = crossover(list_index_vas,n_points, formacao_nova_populacao, tam_population)\n",
        "  #20% dos individuos sofrem mutações\n",
        "  #a nova populacao combinada é passada como parametro\n",
        "  populacao_cruzada_e_mutada = mutations(df_amp,nova_populacao_combinada, 0.10,list_index_vas)\n",
        "\n",
        "  return populacao_cruzada_e_mutada"
      ]
    },
    {
      "cell_type": "markdown",
      "metadata": {
        "id": "-B_1KVuBjpdT"
      },
      "source": [
        "# Benckmarking Experimental"
      ]
    },
    {
      "cell_type": "markdown",
      "metadata": {
        "id": "tlIF9oZwl1Ld"
      },
      "source": [
        "Arquivos que serão utilizados para salvar os dados do experimento"
      ]
    },
    {
      "cell_type": "code",
      "execution_count": null,
      "metadata": {
        "id": "d8cRkYtDKZS4"
      },
      "outputs": [],
      "source": [
        "#Salvando os resultados dos melhores indivividuos(métrica e versão do dataset correspondente) durante o \n",
        "#processo de otimização.\n",
        "def _geracoes_results(dados,name_file,dataset, missing_values_rate):\n",
        "  with open(name_file, 'a') as arquivo:\n",
        "    arquivo.write('\\n '+str(missing_values_rate)+' ')\n",
        "    for i in dados:\n",
        "      arquivo.write('\\n '+str(i[0])+' ')"
      ]
    },
    {
      "cell_type": "code",
      "execution_count": null,
      "metadata": {
        "id": "RS_MuuDfcJTX"
      },
      "outputs": [],
      "source": [
        "#Salvando as informações (métrica e versão final do dataset) do desempenho final do AG para cada taxa de valor ausente\n",
        "def results_exp(name_file,algorithm,dataset_name, vas, dado):\n",
        "  with open(name_file, 'a') as arquivo:\n",
        "    arquivo.write('\\n'+str(algorithm)+'_'+dataset_name+'_'+str(vas)+'_'+'dado)"
      ]
    },
    {
      "cell_type": "markdown",
      "metadata": {
        "id": "oJvjyNtNnHlK"
      },
      "source": [
        "Início de execução do AG"
      ]
    },
    {
      "cell_type": "code",
      "execution_count": null,
      "metadata": {
        "id": "8woZlCJi3VOn"
      },
      "outputs": [],
      "source": [
        "def run(datasetName):\n",
        "    geracoes = [8,10,12,14,16,18] # 7-geracoes(com a geração inicial)\n",
        "    rates_missing_values =[0.30]#, 0.10, 0.15, 0.20, 0.25, 0.30]\n",
        "    imputation_methods  = ['knn-3','knn-5','knn-10', 'mean', 'most_frequent', 'median']\n",
        "    #metrica = 'F1' #['F1', 'ACC']\n",
        "    \n",
        "    path_file = '/home/jacobjr/Documents/AnyDesk/evoimp/results/'+str(datasetName)+'.txt' \n",
        "    path_file_gen = '/home/jacobjr/Documents/AnyDesk/evoimp/results/otimazacao_'+str(datasetName)+'.txt'\n",
        "    #lendo datasets via scikit-multilearning\n",
        "    dataset_name = datasetName\n",
        "    dataset = load_dataset_(dataset_name)\n",
        "    #dataset = dataset_emotions()\n",
        "    X = dataset[0]\n",
        "    y = dataset[1]\n",
        "    print(X.shape, y.shape)\n",
        "    #Aplicando validação cruzada do tipo K-folds - (10-folds)\n",
        "    data_validations = cross_validation(X,y,10)\n",
        "    X_train = data_validations[0]\n",
        "    X_test = data_validations[1]\n",
        "    y_train = data_validations[2]\n",
        "    y_test = data_validations[3]\n",
        "    print('X_train: ',X_train.shape)\n",
        "    print('X_test: ',X_test.shape)\n",
        "    print('y_train: ',y_train.shape)\n",
        "    print('y_test: ',y_test.shape)\n",
        "    \n",
        "    #verificando missing values \n",
        "    #missing_values =missing_values(pd.DataFrame(X_train))\n",
        "    #Amputação de dados\n",
        "    accuracy = []\n",
        "    for i in rates_missing_values:\n",
        "      dados_amputacao = amputation(i, X_train)\n",
        "      lista_indices_amputados = dados_amputacao[1]\n",
        "      dataset_amputado = dados_amputacao[0]\n",
        "      #imputação para formação da população incial\n",
        "      individuos = []\n",
        "      for j  in imputation_methods:\n",
        "        individuos.append(imputation(j,dataset_amputado))\n",
        "      bases_completas = individuos\n",
        "      #outras_avaliacoes(bases_completas=bases_completas, path_file=path_file, repeticoes=3 )\n",
        "      #========================================================================\n",
        "      #Fazendo experimentos com o Algoritmo Genético\n",
        "      #========================================================================\n",
        "      populationInitial = individuos\n",
        "      #avaliando a pupolução inicial e ordenada (DESC) e avaliando com a acurácia\n",
        "      populacao_avaliada = fitness_multiObjetivo(populationInitial,'randomForest')\n",
        "      #elitismo\n",
        "      #elitista = elitismo(populacao_avaliada)//já é passada diretamente//indice zero da população passada\n",
        "      #iniciando o processo de otimização (criterio de parada é determinado pelas gerações)\n",
        "      populacao_inicial = populacao_avaliada\n",
        "      melhor = populacao_inicial[0]\n",
        "      melhores_por_geracao = []\n",
        "      melhores_por_geracao.append(melhor[0])\n",
        "      for p in [8,10,12,14,16,18]:\n",
        "        print('==============================================================')\n",
        "        print('Geração: (tam) ',p)\n",
        "        n_pop = nova_populacao(dataset_amputado, melhor, populacao_inicial, p,2)\n",
        "\n",
        "        populacao_atual_avaliada = fitness_multiObjetivo(n_pop,'randomForest')\n",
        "        melhor = populacao_atual_avaliada[0]\n",
        "        elitista  = populacao_inicial[0]\n",
        "        populacao_inicial = []\n",
        "        populacao_inicial.append(elitista)\n",
        "        melhor = []\n",
        "        populacao_inicial.extend(populacao_atual_avaliada)\n",
        "        populacao_inicial = sorted(populacao_inicial, key=lambda x: x[0][0], reverse=True)\n",
        "        for z in populacao_inicial:\n",
        "          print(z[0][0])\n",
        "        best = populacao_inicial[0]\n",
        "        melhores_por_geracao.append(best[0])\n",
        "        print('População atual e elitista: ', len(populacao_inicial))\n",
        "      _geracoes_results(melhores_por_geracao,path_file_gen,dataset_name,str(i))\n",
        "      print('melhores por geracao',len(melhores_por_geracao))\n",
        "      for x in melhores_por_geracao:\n",
        "        print('-: ',x)\n",
        "      print('======================================================================')\n",
        "      print('======================================================================')\n",
        "      results_exp(path_file, 'AG',dataset_name, i,str(melhores_por_geracao[(len(melhores_por_geracao)-1)]))\n",
        "      melhores_por_geracao = []\n",
        "    "
      ]
    },
    {
      "cell_type": "code",
      "execution_count": null,
      "metadata": {
        "colab": {
          "base_uri": "https://localhost:8080/"
        },
        "id": "fL4pHnpa3wiT",
        "outputId": "8751ad92-0fc3-4442-9e7d-0dcd3f95fc09"
      },
      "outputs": [
        {
          "name": "stdout",
          "output_type": "stream",
          "text": [
            "mediamill:undivided - exists, not redownloading\n"
          ]
        },
        {
          "ename": "KeyboardInterrupt",
          "evalue": "",
          "output_type": "error",
          "traceback": [
            "\u001b[0;31m---------------------------------------------------------------------------\u001b[0m",
            "\u001b[0;31mKeyboardInterrupt\u001b[0m                         Traceback (most recent call last)",
            "Input \u001b[0;32mIn [114]\u001b[0m, in \u001b[0;36m<module>\u001b[0;34m\u001b[0m\n\u001b[1;32m      7\u001b[0m path_file_gen \u001b[38;5;241m=\u001b[39m \u001b[38;5;124m'\u001b[39m\u001b[38;5;124m/home/jacobjr/Documents/AnyDesk/evoimp/results/geracoes_\u001b[39m\u001b[38;5;124m'\u001b[39m\u001b[38;5;241m+\u001b[39m\u001b[38;5;28mstr\u001b[39m(dataset_name)\u001b[38;5;241m+\u001b[39m\u001b[38;5;124m'\u001b[39m\u001b[38;5;124m.txt\u001b[39m\u001b[38;5;124m'\u001b[39m\n\u001b[1;32m      8\u001b[0m \u001b[38;5;66;03m#lendo datasets via scikit-multilearning\u001b[39;00m\n\u001b[0;32m---> 10\u001b[0m dataset \u001b[38;5;241m=\u001b[39m \u001b[43mload_dataset_\u001b[49m\u001b[43m(\u001b[49m\u001b[43mdataset_name\u001b[49m\u001b[43m)\u001b[49m\n\u001b[1;32m     11\u001b[0m \u001b[38;5;66;03m#dataset = dataset_emotions()\u001b[39;00m\n\u001b[1;32m     12\u001b[0m X \u001b[38;5;241m=\u001b[39m dataset[\u001b[38;5;241m0\u001b[39m]\n",
            "Input \u001b[0;32mIn [19]\u001b[0m, in \u001b[0;36mload_dataset_\u001b[0;34m(dataset_name)\u001b[0m\n\u001b[1;32m      1\u001b[0m \u001b[38;5;28;01mdef\u001b[39;00m \u001b[38;5;21mload_dataset_\u001b[39m(dataset_name):\n\u001b[1;32m      2\u001b[0m     \u001b[38;5;28;01mfrom\u001b[39;00m \u001b[38;5;21;01mskmultilearn\u001b[39;00m\u001b[38;5;21;01m.\u001b[39;00m\u001b[38;5;21;01mdataset\u001b[39;00m \u001b[38;5;28;01mimport\u001b[39;00m load_dataset\n\u001b[0;32m----> 3\u001b[0m     X,y,feature_names,label_names \u001b[38;5;241m=\u001b[39m \u001b[43mload_dataset\u001b[49m\u001b[43m(\u001b[49m\u001b[43mdataset_name\u001b[49m\u001b[43m,\u001b[49m\u001b[43m \u001b[49m\u001b[38;5;124;43m'\u001b[39;49m\u001b[38;5;124;43mundivided\u001b[39;49m\u001b[38;5;124;43m'\u001b[39;49m\u001b[43m)\u001b[49m\n\u001b[1;32m      4\u001b[0m     \u001b[38;5;28;01mreturn\u001b[39;00m X\u001b[38;5;241m.\u001b[39mtoarray(),y\u001b[38;5;241m.\u001b[39mtoarray(),feature_names, label_names\n",
            "File \u001b[0;32m~/.local/lib/python3.8/site-packages/skmultilearn/dataset.py:169\u001b[0m, in \u001b[0;36mload_dataset\u001b[0;34m(set_name, variant, data_home)\u001b[0m\n\u001b[1;32m    167\u001b[0m path \u001b[38;5;241m=\u001b[39m download_dataset(set_name, variant, data_home)\n\u001b[1;32m    168\u001b[0m \u001b[38;5;28;01mif\u001b[39;00m path \u001b[38;5;129;01mis\u001b[39;00m \u001b[38;5;129;01mnot\u001b[39;00m \u001b[38;5;28;01mNone\u001b[39;00m:\n\u001b[0;32m--> 169\u001b[0m     \u001b[38;5;28;01mreturn\u001b[39;00m \u001b[43mload_dataset_dump\u001b[49m\u001b[43m(\u001b[49m\u001b[43mpath\u001b[49m\u001b[43m)\u001b[49m\n\u001b[1;32m    171\u001b[0m \u001b[38;5;28;01mreturn\u001b[39;00m \u001b[38;5;28;01mNone\u001b[39;00m\n",
            "File \u001b[0;32m~/.local/lib/python3.8/site-packages/skmultilearn/dataset.py:383\u001b[0m, in \u001b[0;36mload_dataset_dump\u001b[0;34m(filename)\u001b[0m\n\u001b[1;32m    380\u001b[0m     filename \u001b[38;5;241m+\u001b[39m\u001b[38;5;241m=\u001b[39m \u001b[38;5;124m\"\u001b[39m\u001b[38;5;124m.bz2\u001b[39m\u001b[38;5;124m\"\u001b[39m\n\u001b[1;32m    382\u001b[0m \u001b[38;5;28;01mwith\u001b[39;00m bz2\u001b[38;5;241m.\u001b[39mBZ2File(filename, \u001b[38;5;124m\"\u001b[39m\u001b[38;5;124mr\u001b[39m\u001b[38;5;124m\"\u001b[39m) \u001b[38;5;28;01mas\u001b[39;00m file_handle:\n\u001b[0;32m--> 383\u001b[0m     data \u001b[38;5;241m=\u001b[39m \u001b[43mpickle\u001b[49m\u001b[38;5;241;43m.\u001b[39;49m\u001b[43mload\u001b[49m\u001b[43m(\u001b[49m\u001b[43mfile_handle\u001b[49m\u001b[43m)\u001b[49m\n\u001b[1;32m    385\u001b[0m \u001b[38;5;28;01mreturn\u001b[39;00m data[\u001b[38;5;124m'\u001b[39m\u001b[38;5;124mX\u001b[39m\u001b[38;5;124m'\u001b[39m], data[\u001b[38;5;124m'\u001b[39m\u001b[38;5;124my\u001b[39m\u001b[38;5;124m'\u001b[39m], data[\u001b[38;5;124m'\u001b[39m\u001b[38;5;124mfeatures\u001b[39m\u001b[38;5;124m'\u001b[39m], data[\u001b[38;5;124m'\u001b[39m\u001b[38;5;124mlabels\u001b[39m\u001b[38;5;124m'\u001b[39m]\n",
            "File \u001b[0;32m/usr/lib/python3.8/bz2.py:172\u001b[0m, in \u001b[0;36mBZ2File.peek\u001b[0;34m(self, n)\u001b[0m\n\u001b[1;32m    168\u001b[0m \u001b[38;5;28mself\u001b[39m\u001b[38;5;241m.\u001b[39m_check_can_read()\n\u001b[1;32m    169\u001b[0m \u001b[38;5;66;03m# Relies on the undocumented fact that BufferedReader.peek()\u001b[39;00m\n\u001b[1;32m    170\u001b[0m \u001b[38;5;66;03m# always returns at least one byte (except at EOF), independent\u001b[39;00m\n\u001b[1;32m    171\u001b[0m \u001b[38;5;66;03m# of the value of n\u001b[39;00m\n\u001b[0;32m--> 172\u001b[0m \u001b[38;5;28;01mreturn\u001b[39;00m \u001b[38;5;28;43mself\u001b[39;49m\u001b[38;5;241;43m.\u001b[39;49m\u001b[43m_buffer\u001b[49m\u001b[38;5;241;43m.\u001b[39;49m\u001b[43mpeek\u001b[49m\u001b[43m(\u001b[49m\u001b[43mn\u001b[49m\u001b[43m)\u001b[49m\n",
            "File \u001b[0;32m/usr/lib/python3.8/_compression.py:68\u001b[0m, in \u001b[0;36mDecompressReader.readinto\u001b[0;34m(self, b)\u001b[0m\n\u001b[1;32m     66\u001b[0m \u001b[38;5;28;01mdef\u001b[39;00m \u001b[38;5;21mreadinto\u001b[39m(\u001b[38;5;28mself\u001b[39m, b):\n\u001b[1;32m     67\u001b[0m     \u001b[38;5;28;01mwith\u001b[39;00m \u001b[38;5;28mmemoryview\u001b[39m(b) \u001b[38;5;28;01mas\u001b[39;00m view, view\u001b[38;5;241m.\u001b[39mcast(\u001b[38;5;124m\"\u001b[39m\u001b[38;5;124mB\u001b[39m\u001b[38;5;124m\"\u001b[39m) \u001b[38;5;28;01mas\u001b[39;00m byte_view:\n\u001b[0;32m---> 68\u001b[0m         data \u001b[38;5;241m=\u001b[39m \u001b[38;5;28;43mself\u001b[39;49m\u001b[38;5;241;43m.\u001b[39;49m\u001b[43mread\u001b[49m\u001b[43m(\u001b[49m\u001b[38;5;28;43mlen\u001b[39;49m\u001b[43m(\u001b[49m\u001b[43mbyte_view\u001b[49m\u001b[43m)\u001b[49m\u001b[43m)\u001b[49m\n\u001b[1;32m     69\u001b[0m         byte_view[:\u001b[38;5;28mlen\u001b[39m(data)] \u001b[38;5;241m=\u001b[39m data\n\u001b[1;32m     70\u001b[0m     \u001b[38;5;28;01mreturn\u001b[39;00m \u001b[38;5;28mlen\u001b[39m(data)\n",
            "File \u001b[0;32m/usr/lib/python3.8/_compression.py:103\u001b[0m, in \u001b[0;36mDecompressReader.read\u001b[0;34m(self, size)\u001b[0m\n\u001b[1;32m    101\u001b[0m     \u001b[38;5;28;01melse\u001b[39;00m:\n\u001b[1;32m    102\u001b[0m         rawblock \u001b[38;5;241m=\u001b[39m \u001b[38;5;124mb\u001b[39m\u001b[38;5;124m\"\u001b[39m\u001b[38;5;124m\"\u001b[39m\n\u001b[0;32m--> 103\u001b[0m     data \u001b[38;5;241m=\u001b[39m \u001b[38;5;28;43mself\u001b[39;49m\u001b[38;5;241;43m.\u001b[39;49m\u001b[43m_decompressor\u001b[49m\u001b[38;5;241;43m.\u001b[39;49m\u001b[43mdecompress\u001b[49m\u001b[43m(\u001b[49m\u001b[43mrawblock\u001b[49m\u001b[43m,\u001b[49m\u001b[43m \u001b[49m\u001b[43msize\u001b[49m\u001b[43m)\u001b[49m\n\u001b[1;32m    104\u001b[0m \u001b[38;5;28;01mif\u001b[39;00m data:\n\u001b[1;32m    105\u001b[0m     \u001b[38;5;28;01mbreak\u001b[39;00m\n",
            "\u001b[0;31mKeyboardInterrupt\u001b[0m: "
          ]
        }
      ],
      "source": [
        "geracoes = [8,10,12,14,16,18] # 7-geracoes(com a geração inicial)\n",
        "rates_missing_values =[0.05, 0.10, 0.15, 0.20, 0.25, 0.30]\n",
        "imputation_methods  = ['knn-3','knn-5','knn-10', 'mean', 'most_frequent', 'median']\n",
        "#metrica = 'F1' #['F1', 'ACC']\n",
        "dataset_name = ''\n",
        "path_file = '/home/jacobjr/Documents/AnyDesk/evoimp/results/'+str(dataset_name)+'.txt' \n",
        "path_file_gen = '/home/jacobjr/Documents/AnyDesk/evoimp/results/geracoes_'+str(dataset_name)+'.txt'\n",
        "#lendo datasets via scikit-multilearning\n",
        "\n",
        "dataset = load_dataset_(dataset_name)\n",
        "#dataset = dataset_emotions()\n",
        "X = dataset[0]\n",
        "y = dataset[1]\n",
        "#Aplicando validação cruzada do tipo K-folds - (10-folds)\n",
        "data_validations = cross_validation(X,y,10)\n",
        "X_train = data_validations[0]\n",
        "X_test = data_validations[1]\n",
        "y_train = data_validations[2]\n",
        "y_test = data_validations[3]\n",
        "#verificando missing values \n",
        "#missing_values =missing_values(pd.DataFrame(X_train))\n",
        "#Amputação de dados\n",
        "accuracy = []\n",
        "for i in rates_missing_values:\n",
        "  dados_amputacao = amputation(i, X_train)\n",
        "  lista_indices_amputados = dados_amputacao[1]\n",
        "  dataset_amputado = dados_amputacao[0]\n",
        "  #imputação para formação da população incial\n",
        "  individuos = []\n",
        "  for j  in imputation_methods:\n",
        "    individuos.append(imputation(j,dataset_amputado))\n",
        "  bases_completas = individuos\n",
        "  #outras_avaliacoes(bases_completas=bases_completas, path_file=path_file, repeticoes=3 )\n",
        "  #========================================================================\n",
        "  #Fazendo experimentos com o Algoritmo Genético\n",
        "  #========================================================================\n",
        "  populationInitial = individuos\n",
        "  #avaliando a pupolução inicial e ordenada (DESC) e avaliando com a acurácia\n",
        "  populacao_avaliada = fitness_multiObjetivo(populationInitial,'randomForest')\n",
        "  #elitismo\n",
        "  #elitista = elitismo(populacao_avaliada)//já é passada diretamente//indice zero da população passada\n",
        "  #iniciando o processo de otimização (criterio de parada é determinado pelas gerações)\n",
        "  populacao_inicial = populacao_avaliada\n",
        "  melhor = populacao_inicial[0]\n",
        "  melhores_por_geracao = []\n",
        "  melhores_por_geracao.append(melhor)\n",
        "  for p in [8,10,12,14,16,18]:\n",
        "    print('==============================================================')\n",
        "    print('Geração: (tam) ',p)\n",
        "    n_pop = nova_populacao(dataset_amputado, melhor, populacao_inicial, p,2)\n",
        "\n",
        "    populacao_atual_avaliada = fitness_multiObjetivo(n_pop,'randomForest')\n",
        "    melhor = populacao_atual_avaliada[0]\n",
        "    elitista  = populacao_inicial[0]\n",
        "    populacao_inicial = []\n",
        "    populacao_inicial.append(elitista)\n",
        "    melhor = []\n",
        "    populacao_inicial.extend(populacao_atual_avaliada)\n",
        "    populacao_inicial = sorted(populacao_inicial, key=lambda x: x[0][0], reverse=True)\n",
        "    for z in populacao_inicial:\n",
        "      print(z[0][0])\n",
        "    best = populacao_inicial[0]\n",
        "    melhores_por_geracao.append(best)\n",
        "    print('População atual e elitista: ', len(populacao_inicial))\n",
        "  _geracoes_results(melhores_por_geracao,path_file_gen,dataset_name,str(i))\n",
        "  print('melhores por geracao',len(melhores_por_geracao))\n",
        "  for x in melhores_por_geracao:\n",
        "    print('-: ',x)\n",
        "  print('======================================================================')\n",
        "  print('======================================================================')\n",
        "  results_exp(path_file, 'AG',dataset_name, i,str(melhores_por_geracao[(len(melhores_por_geracao)-1)]))\n",
        "  melhores_por_geracao = []\n"
      ]
    }
  ],
  "metadata": {
    "colab": {
      "collapsed_sections": [],
      "name": "Multiobjective_Evolutionary_Imputation.ipynb",
      "provenance": []
    },
    "kernelspec": {
      "display_name": "Python 3 (ipykernel)",
      "language": "python",
      "name": "python3"
    },
    "language_info": {
      "codemirror_mode": {
        "name": "ipython",
        "version": 3
      },
      "file_extension": ".py",
      "mimetype": "text/x-python",
      "name": "python",
      "nbconvert_exporter": "python",
      "pygments_lexer": "ipython3",
      "version": "3.8.10"
    }
  },
  "nbformat": 4,
  "nbformat_minor": 0
}